{
 "cells": [
  {
   "cell_type": "markdown",
   "metadata": {
    "colab_type": "text",
    "id": "38tA-ErIC4OD"
   },
   "source": [
    "# Proyecto2"
   ]
  },
  {
   "cell_type": "markdown",
   "metadata": {},
   "source": [
    "### Resultados del Proyecto 1: Análisis de mercado inmobiliario"
   ]
  },
  {
   "cell_type": "markdown",
   "metadata": {},
   "source": [
    "<font color=green>\n",
    "Se importa las librerías necesarias para trabajar en la consigna.\n",
    "</font>"
   ]
  },
  {
   "cell_type": "code",
   "execution_count": 1,
   "metadata": {},
   "outputs": [],
   "source": [
    "# COMPLETAR - AGREGAR TANTAS CELDAS COMO SEA NECESARIO\n",
    "import numpy as np\n",
    "import pandas as pd\n",
    "import matplotlib.pyplot as plt\n",
    "import seaborn as sns"
   ]
  },
  {
   "cell_type": "markdown",
   "metadata": {},
   "source": [
    "<font color=green>\n",
    "Se carga el dataset usando las funcionalidades de Pandas. Se imprime cuántas filas y columnas tiene.\n",
    "</font>"
   ]
  },
  {
   "cell_type": "code",
   "execution_count": 2,
   "metadata": {},
   "outputs": [
    {
     "name": "stdout",
     "output_type": "stream",
     "text": [
      "El dataset tiene 146660 filas y 19 columnas\n"
     ]
    }
   ],
   "source": [
    "# COMPLETAR - AGREGAR TANTAS CELDAS COMO SEA NECESARIO\n",
    "propiedadesProperati = pd.read_csv('properati.csv')\n",
    "# tupla\n",
    "tamanoDataset = propiedadesProperati.shape\n",
    "print('El dataset tiene',tamanoDataset[0],'filas y',tamanoDataset[1],'columnas')"
   ]
  },
  {
   "attachments": {
    "image.png": {
     "image/png": "[encoded data removed]"
    }
   },
   "cell_type": "markdown",
   "metadata": {},
   "source": [
    "![image.png](attachment:image.png)"
   ]
  },
  {
   "cell_type": "markdown",
   "metadata": {},
   "source": [
    "<font color=green>\n",
    "Se señalan las premisas que se van a mantener en el proyecto 2.\n",
    "</font>"
   ]
  },
  {
   "cell_type": "code",
   "execution_count": 3,
   "metadata": {},
   "outputs": [],
   "source": [
    "propiedades =  ['Departamento', 'PH','Casa']"
   ]
  },
  {
   "cell_type": "code",
   "execution_count": 4,
   "metadata": {},
   "outputs": [],
   "source": [
    "df = propiedadesProperati[(propiedadesProperati.l2 == 'Capital Federal') & (propiedadesProperati.property_type.isin(propiedades))\n",
    "         & (propiedadesProperati.surface_total <= 1000) & (propiedadesProperati.surface_total >= 15) & (propiedadesProperati.price <= 4000000)]"
   ]
  },
  {
   "cell_type": "code",
   "execution_count": 5,
   "metadata": {},
   "outputs": [],
   "source": [
    "# Se resetea index\n",
    "df = df.reset_index(drop=True)"
   ]
  },
  {
   "cell_type": "code",
   "execution_count": 6,
   "metadata": {},
   "outputs": [
    {
     "name": "stdout",
     "output_type": "stream",
     "text": [
      "(82373, 19)\n"
     ]
    }
   ],
   "source": [
    "print(df.shape)"
   ]
  },
  {
   "cell_type": "markdown",
   "metadata": {},
   "source": [
    "<font color=green>\n",
    "Se eliminaron aquellas columnas que no me 'aportan' a mi estudio estadistico\n",
    "</font>"
   ]
  },
  {
   "cell_type": "code",
   "execution_count": 7,
   "metadata": {},
   "outputs": [],
   "source": [
    "df = df[['rooms', 'bedrooms','bathrooms', 'surface_total', 'surface_covered', 'price']]\n",
    "df.dropna(inplace=True)"
   ]
  },
  {
   "cell_type": "code",
   "execution_count": 8,
   "metadata": {},
   "outputs": [
    {
     "name": "stdout",
     "output_type": "stream",
     "text": [
      "(81019, 6)\n"
     ]
    }
   ],
   "source": [
    "print(df.shape)"
   ]
  },
  {
   "cell_type": "code",
   "execution_count": 9,
   "metadata": {},
   "outputs": [],
   "source": [
    "# Se resetea index\n",
    "df = df.reset_index(drop=True)"
   ]
  },
  {
   "cell_type": "markdown",
   "metadata": {},
   "source": [
    "<font color=green>\n",
    "Checkpoint. Tamaño de dataset 81019 filas y 6 columnas\n",
    "</font>"
   ]
  },
  {
   "cell_type": "code",
   "execution_count": 10,
   "metadata": {},
   "outputs": [
    {
     "data": {
      "text/plain": [
       "rooms              0\n",
       "bedrooms           0\n",
       "bathrooms          0\n",
       "surface_total      0\n",
       "surface_covered    0\n",
       "price              0\n",
       "dtype: int64"
      ]
     },
     "execution_count": 10,
     "metadata": {},
     "output_type": "execute_result"
    }
   ],
   "source": [
    "df.isna().sum()"
   ]
  },
  {
   "cell_type": "markdown",
   "metadata": {},
   "source": [
    "<font color=green>\n",
    "Separo las columnas, 'x' es con la que voy a entrenar el modelo \n",
    "</font>"
   ]
  },
  {
   "cell_type": "markdown",
   "metadata": {},
   "source": [
    "<font color=green>\n",
    "'y' contiene la variable 'price' o precio para predecir mi modelo\n",
    "</font>"
   ]
  },
  {
   "cell_type": "code",
   "execution_count": 11,
   "metadata": {},
   "outputs": [],
   "source": [
    "X = df.loc[:,['rooms', 'bedrooms','bathrooms', 'surface_total', 'surface_covered']]\n",
    "y = df.loc[:,['price']]"
   ]
  },
  {
   "cell_type": "markdown",
   "metadata": {},
   "source": [
    "<font color=green>\n",
    "Aquí se usa la función train_test_split de scikit-learn para dividir los datos en conjuntos de entrenamiento y prueba. Para el modelo se asignó un 25% para test.\n",
    "</font>"
   ]
  },
  {
   "cell_type": "code",
   "execution_count": 12,
   "metadata": {},
   "outputs": [],
   "source": [
    "from sklearn.model_selection import train_test_split\n",
    "\n",
    "X_train, X_test, y_train, y_test = train_test_split(X, y, test_size=0.25, random_state=42)"
   ]
  },
  {
   "cell_type": "code",
   "execution_count": 13,
   "metadata": {},
   "outputs": [
    {
     "name": "stdout",
     "output_type": "stream",
     "text": [
      "Datos de entrenamiento:\n",
      "(60764, 5) (60764, 1)\n",
      "Datos de prueba:\n",
      "(20255, 5) (20255, 1)\n"
     ]
    }
   ],
   "source": [
    "print('Datos de entrenamiento:')\n",
    "print(X_train.shape, y_train.shape)\n",
    "print('Datos de prueba:')\n",
    "print(X_test.shape, y_test.shape)"
   ]
  },
  {
   "cell_type": "markdown",
   "metadata": {},
   "source": [
    "<font color=green>\n",
    "Para las gráficas de mi modelo, se opta por el uso de la función r2_score (el coeficiente de determinación) que proporciona una medida de qué tan bien es probable que el modelo prediga las muestras futuras. También se importa la función de error cuadrático medio (mean_squared_error) que es el promedio del cuadrado de la diferencia entre los valores originales y los valores predichos.\n",
    "</font>"
   ]
  },
  {
   "cell_type": "code",
   "execution_count": 14,
   "metadata": {
    "scrolled": true
   },
   "outputs": [],
   "source": [
    "from sklearn.metrics import mean_squared_error\n",
    "from sklearn.metrics import mean_absolute_error\n",
    "from sklearn.metrics import r2_score"
   ]
  },
  {
   "cell_type": "markdown",
   "metadata": {},
   "source": [
    "#### DecisionTreeRegressor"
   ]
  },
  {
   "cell_type": "code",
   "execution_count": 15,
   "metadata": {},
   "outputs": [],
   "source": [
    "from sklearn.tree import DecisionTreeRegressor\n",
    "tree_model = DecisionTreeRegressor(max_depth=5, random_state=42)\n",
    "tree_model.fit(X_train, y_train)\n",
    "y_train_pred_tree = tree_model.predict(X_train)\n",
    "y_test_pred_tree = tree_model.predict(X_test)"
   ]
  },
  {
   "cell_type": "code",
   "execution_count": 16,
   "metadata": {},
   "outputs": [
    {
     "name": "stdout",
     "output_type": "stream",
     "text": [
      "R2 of Linear Regresson train: 0.6756028215737884\n",
      "MAE train:  78894.14673279082\n",
      "MSE train:  28609828382.93865\n",
      "RMSE train: 169144.4009801644\n"
     ]
    }
   ],
   "source": [
    "print (\"R2 of Linear Regresson train:\", tree_model.score(X_train,y_train) )\n",
    "print('MAE train: ',mean_absolute_error(y_train, tree_model.predict(X_train)))\n",
    "print('MSE train: ',mean_squared_error(y_train, tree_model.predict(X_train)))\n",
    "print('RMSE train:',np.sqrt(mean_squared_error(y_train, tree_model.predict(X_train))))"
   ]
  },
  {
   "cell_type": "code",
   "execution_count": 17,
   "metadata": {},
   "outputs": [
    {
     "name": "stdout",
     "output_type": "stream",
     "text": [
      "R2 of Linear Regresson test: 0.6683677446347567\n",
      "MAE test:  81000.06030118825\n",
      "MSE test:  30806432240.636\n",
      "RMSE test: 175517.61233744037\n"
     ]
    }
   ],
   "source": [
    "print (\"R2 of Linear Regresson test:\", tree_model.score(X_test,y_test) )\n",
    "print('MAE test: ',mean_absolute_error(y_test, tree_model.predict(X_test)))\n",
    "print('MSE test: ',mean_squared_error(y_test, tree_model.predict(X_test)))\n",
    "print('RMSE test:',np.sqrt(mean_squared_error(y_test, tree_model.predict(X_test))))"
   ]
  },
  {
   "cell_type": "markdown",
   "metadata": {},
   "source": [
    "<font color=green>\n",
    "Con un modelo árbol de desición, se tiene un score de entrenamiento 67.5% y score de prueba 66.8%\n",
    "</font>"
   ]
  },
  {
   "cell_type": "markdown",
   "metadata": {},
   "source": [
    "#### KNeighborsRegressor"
   ]
  },
  {
   "cell_type": "code",
   "execution_count": 18,
   "metadata": {},
   "outputs": [],
   "source": [
    "from sklearn.neighbors import KNeighborsRegressor\n",
    "knn_model = KNeighborsRegressor(n_neighbors=5, weights = 'distance')\n",
    "knn_model.fit(X_train, y_train)\n",
    "y_train_pred_knn = knn_model.predict(X_train)\n",
    "y_test_pred_knn = knn_model.predict(X_test)"
   ]
  },
  {
   "cell_type": "code",
   "execution_count": 19,
   "metadata": {},
   "outputs": [
    {
     "name": "stdout",
     "output_type": "stream",
     "text": [
      "R2 of Linear Regresson train: 0.9650508827333838\n",
      "MAE train:  24649.14793902091\n",
      "MSE train:  3082296375.030059\n",
      "RMSE train: 55518.43275012416\n"
     ]
    }
   ],
   "source": [
    "print (\"R2 of Linear Regresson train:\", knn_model.score(X_train,y_train) )\n",
    "print('MAE train: ',mean_absolute_error(y_train, knn_model.predict(X_train)))\n",
    "print('MSE train: ',mean_squared_error(y_train, knn_model.predict(X_train)))\n",
    "print('RMSE train:',np.sqrt(mean_squared_error(y_train, knn_model.predict(X_train))))"
   ]
  },
  {
   "cell_type": "code",
   "execution_count": 20,
   "metadata": {},
   "outputs": [
    {
     "name": "stdout",
     "output_type": "stream",
     "text": [
      "R2 of Linear Regresson test: 0.8106532008926289\n",
      "MAE test:  49697.197093923496\n",
      "MSE test:  17589059092.753986\n",
      "RMSE test: 132623.75010816872\n"
     ]
    }
   ],
   "source": [
    "print (\"R2 of Linear Regresson test:\", knn_model.score(X_test,y_test) )\n",
    "print('MAE test: ',mean_absolute_error(y_test, knn_model.predict(X_test)))\n",
    "print('MSE test: ',mean_squared_error(y_test, knn_model.predict(X_test)))\n",
    "print('RMSE test:',np.sqrt(mean_squared_error(y_test, knn_model.predict(X_test))))"
   ]
  },
  {
   "cell_type": "markdown",
   "metadata": {},
   "source": [
    "<font color=green>\n",
    "Con un modelo vecinos cercanos, se tiene un score de entrenamiento 96.5% y score de prueba 81.06%\n",
    "</font>"
   ]
  },
  {
   "cell_type": "code",
   "execution_count": 21,
   "metadata": {},
   "outputs": [
    {
     "data": {
      "image/png": "[encoded data removed]",
      "text/plain": [
       "<Figure size 1080x360 with 2 Axes>"
      ]
     },
     "metadata": {
      "needs_background": "light"
     },
     "output_type": "display_data"
    }
   ],
   "source": [
    "plt.figure(figsize=(15,5))\n",
    "plt.subplot(1,2,1)\n",
    "sns.distplot((y_train) - (y_train_pred_tree).reshape(-1,1), bins = 20, label = 'train')\n",
    "sns.distplot((y_test) - (y_test_pred_tree).reshape(-1,1), bins = 20, label = 'test')\n",
    "plt.xlabel('Arbol - errores')\n",
    "plt.legend()\n",
    "\n",
    "plt.subplot(1,2,2)\n",
    "sns.distplot((y_train) - (y_train_pred_knn).reshape(-1,1), bins = 20, label = 'train')\n",
    "sns.distplot((y_test) - (y_test_pred_knn).reshape(-1,1), bins = 20, label = 'test')\n",
    "plt.xlabel('KNN - errores')\n",
    "plt.legend()\n",
    "plt.show()"
   ]
  },
  {
   "cell_type": "code",
   "execution_count": 22,
   "metadata": {},
   "outputs": [
    {
     "name": "stdout",
     "output_type": "stream",
     "text": [
      "Modelo: Árbol de Decisión\n",
      "Raíz del error cuadrático medio en Train: 191479.28864256426\n",
      "Raíz del error cuadrático medio en Test: 196171.93348241155\n"
     ]
    },
    {
     "data": {
      "image/png": "[encoded data removed]",
      "text/plain": [
       "<Figure size 576x288 with 2 Axes>"
      ]
     },
     "metadata": {
      "needs_background": "light"
     },
     "output_type": "display_data"
    },
    {
     "name": "stdout",
     "output_type": "stream",
     "text": [
      "Modelo: Vecinos más cercanos\n",
      "Raíz del error cuadrático medio en Train: 55518.43275012416\n",
      "Raíz del error cuadrático medio en Test: 132623.75010816872\n"
     ]
    },
    {
     "data": {
      "image/png": "[encoded data removed]",
      "text/plain": [
       "<Figure size 576x288 with 2 Axes>"
      ]
     },
     "metadata": {
      "needs_background": "light"
     },
     "output_type": "display_data"
    }
   ],
   "source": [
    "#from sklearn.linear_model import LinearRegression\n",
    "#linear_model = LinearRegression()\n",
    "tree_model = DecisionTreeRegressor(max_depth=3, random_state=42)\n",
    "knn_model = KNeighborsRegressor(n_neighbors=5, weights = 'distance')\n",
    "\n",
    "#linear_model.fit(X_train, y_train)\n",
    "tree_model.fit(X_train, y_train)\n",
    "knn_model.fit(X_train, y_train)\n",
    "\n",
    "modelos = ['Árbol de Decisión', 'Vecinos más cercanos']\n",
    "\n",
    "for i, model in enumerate([tree_model, knn_model]):\n",
    "    y_train_pred = model.predict(X_train)\n",
    "    y_test_pred = model.predict(X_test)\n",
    "    \n",
    "    \n",
    "    print(f'Modelo: {modelos[i]}')\n",
    "\n",
    "    rmse_train = np.sqrt(mean_squared_error(y_train, y_train_pred))\n",
    "    rmse_test = np.sqrt(mean_squared_error(y_test, y_test_pred))\n",
    "    print(f'Raíz del error cuadrático medio en Train: {rmse_train}')\n",
    "    print(f'Raíz del error cuadrático medio en Test: {rmse_test}')\n",
    "    \n",
    "    \n",
    "    plt.figure(figsize = (8,4))\n",
    "\n",
    "    plt.subplot(1,2,1)\n",
    "    sns.distplot(y_train - (y_train_pred).reshape(-1,1), bins = 20, label = 'train')\n",
    "    sns.distplot(y_test - (y_test_pred).reshape(-1,1), bins = 20, label = 'test')\n",
    "    plt.xlabel('errores')\n",
    "    plt.legend()\n",
    "\n",
    "\n",
    "    ax = plt.subplot(1,2,2)\n",
    "    ax.scatter(y_test,y_test_pred, s =2)\n",
    "    \n",
    "    lims = [\n",
    "    np.min([ax.get_xlim(), ax.get_ylim()]),  # min of both axes\n",
    "    np.max([ax.get_xlim(), ax.get_ylim()]),  # max of both axes]\n",
    "    ]\n",
    "    \n",
    "    ax.plot(lims, lims, 'k-', alpha=0.75, zorder=0)\n",
    "    plt.xlabel('y (test)')\n",
    "    plt.ylabel('y_pred (test)')\n",
    "    \n",
    "    plt.tight_layout()\n",
    "    plt.show()"
   ]
  },
  {
   "cell_type": "markdown",
   "metadata": {},
   "source": [
    "# Desarrollo proyecto 2"
   ]
  },
  {
   "cell_type": "markdown",
   "metadata": {},
   "source": [
    "## PARTE A - Transformación de Datos"
   ]
  },
  {
   "cell_type": "markdown",
   "metadata": {},
   "source": [
    "#### Elige cuáles de las siguientes tareas son apropiadas para su dataset. \n",
    "#### Justifica e implementa:\n",
    "\n",
    "#### 1. Detección y eliminación de Outliers\n",
    "\n",
    "#### 2. Encoding\n",
    "\n",
    "#### 3. Imputación de valores faltantes\n",
    "\n",
    "#### 4. Escalado de datos\n",
    "\n",
    "#### 5. Generación de nuevas variables predictoras/reducción de dimensionalidad (SVD/PCA).\n",
    "\n",
    "#### Vuelve a entrenar el modelo implementado en la Entrega 01 - en particular, el árbol de decisión - y evalúa su desempeño a partir del dataset obtenido luego de transformar los datos. ¿Hay una mejora en su desempeño? Sea cual sea la respuesta, intenta explicar a qué se debe.\n"
   ]
  },
  {
   "cell_type": "markdown",
   "metadata": {},
   "source": [
    "<font color=green>\n",
    "Check: Eliminación de instancias repetidas\n",
    "</font>"
   ]
  },
  {
   "cell_type": "code",
   "execution_count": 23,
   "metadata": {},
   "outputs": [
    {
     "name": "stdout",
     "output_type": "stream",
     "text": [
      "Numero de instancias duplicadas 2358\n",
      "Numero de instancias del dataset filtrado 144302\n"
     ]
    }
   ],
   "source": [
    "sin_dup = propiedadesProperati.drop_duplicates()\n",
    "print(f'Numero de instancias duplicadas', propiedadesProperati.shape[0]-sin_dup.shape[0])\n",
    "print(f'Numero de instancias del dataset filtrado', sin_dup.shape[0])"
   ]
  },
  {
   "cell_type": "code",
   "execution_count": 24,
   "metadata": {},
   "outputs": [],
   "source": [
    "# Se resetea index\n",
    "sin_dup = sin_dup.reset_index(drop=True)"
   ]
  },
  {
   "attachments": {
    "image.png": {
     "image/png": "[encoded data removed]"
    }
   },
   "cell_type": "markdown",
   "metadata": {},
   "source": [
    "![image.png](attachment:image.png)"
   ]
  },
  {
   "cell_type": "markdown",
   "metadata": {},
   "source": [
    "<font color=green>\n",
    "Se realiza los filtros del dataset para tener uno similar al del primer proyecto. Se crea un nuevo dataframe con las siguientes premisas.\n",
    "</font>"
   ]
  },
  {
   "cell_type": "code",
   "execution_count": 25,
   "metadata": {},
   "outputs": [],
   "source": [
    "df2 = sin_dup[(sin_dup.l2 == 'Capital Federal') & (sin_dup.property_type.isin(propiedades))\n",
    "         & (sin_dup.surface_total <= 1000) & (sin_dup.surface_total >= 15) & (sin_dup.price <= 4000000)]"
   ]
  },
  {
   "cell_type": "code",
   "execution_count": 26,
   "metadata": {},
   "outputs": [
    {
     "name": "stdout",
     "output_type": "stream",
     "text": [
      "(80967, 19)\n"
     ]
    }
   ],
   "source": [
    "print(df2.shape)"
   ]
  },
  {
   "cell_type": "code",
   "execution_count": 27,
   "metadata": {},
   "outputs": [],
   "source": [
    "# Se resetea index\n",
    "df2 = df2.reset_index(drop=True)"
   ]
  },
  {
   "cell_type": "markdown",
   "metadata": {},
   "source": [
    "<font color=green>\n",
    "Se eliminan aquellas columnas que no me 'aportan' a mi estudio estadistico\n",
    "</font>"
   ]
  },
  {
   "cell_type": "markdown",
   "metadata": {},
   "source": [
    "<font color=green>\n",
    "Para este proyecto, se opta por mantener en el dataset las columnas de 'l3' que son los barrios en la ciudad de Buenos Aires y 'property_type', con el fín de mejorar el modelo que predice el precio.\n",
    "</font>"
   ]
  },
  {
   "cell_type": "code",
   "execution_count": 28,
   "metadata": {},
   "outputs": [
    {
     "data": {
      "text/plain": [
       "(80967, 8)"
      ]
     },
     "execution_count": 28,
     "metadata": {},
     "output_type": "execute_result"
    }
   ],
   "source": [
    "df_O =  df2.drop(['start_date', 'end_date', 'created_on', 'lat', 'lon', 'l1', 'l2',\n",
    "                             'currency','title', 'description','operation_type'], axis=1, inplace= False)\n",
    "df_O.shape"
   ]
  },
  {
   "cell_type": "code",
   "execution_count": 29,
   "metadata": {},
   "outputs": [
    {
     "data": {
      "text/plain": [
       "l3                   0\n",
       "rooms                0\n",
       "bedrooms             0\n",
       "bathrooms          880\n",
       "surface_total        0\n",
       "surface_covered    503\n",
       "price                0\n",
       "property_type        0\n",
       "dtype: int64"
      ]
     },
     "execution_count": 29,
     "metadata": {},
     "output_type": "execute_result"
    }
   ],
   "source": [
    "df_O.isna().sum()"
   ]
  },
  {
   "cell_type": "markdown",
   "metadata": {},
   "source": [
    "### Manejo de Outliers"
   ]
  },
  {
   "cell_type": "markdown",
   "metadata": {},
   "source": [
    "<font color=green>\n",
    "Se construye función para quitar los outliers del dataset (uso de método intercuartil), de modo que, se va a trabajar en un rango donde se concentran la mayoría de muestras\n",
    "</font>"
   ]
  },
  {
   "cell_type": "code",
   "execution_count": 30,
   "metadata": {},
   "outputs": [],
   "source": [
    "Q1 = df_O.quantile(0.25)\n",
    "Q3 = df_O.quantile(0.75)\n",
    "IQR = Q3 - Q1"
   ]
  },
  {
   "cell_type": "code",
   "execution_count": 31,
   "metadata": {},
   "outputs": [],
   "source": [
    "no_outliers = df_O[(Q1 - 1.5*IQR < df_O) &  (df_O < Q3 + 1.5*IQR)]\n",
    "outliers = df_O[~((Q1 - 1.5*IQR >= df_O) |  (df_O >= Q3 + 1.5*IQR)).any(axis=1)]"
   ]
  },
  {
   "cell_type": "code",
   "execution_count": 32,
   "metadata": {},
   "outputs": [
    {
     "name": "stdout",
     "output_type": "stream",
     "text": [
      "(80967, 8)\n",
      "(70252, 8)\n"
     ]
    }
   ],
   "source": [
    "print(no_outliers.shape)\n",
    "print(outliers.shape)"
   ]
  },
  {
   "cell_type": "code",
   "execution_count": 33,
   "metadata": {},
   "outputs": [],
   "source": [
    "# Se resetea index\n",
    "outliers = outliers.reset_index(drop=True)"
   ]
  },
  {
   "cell_type": "markdown",
   "metadata": {},
   "source": [
    "<font color=green>\n",
    "En la siguiente representación gráfica se visualizan para rooms, bedrooms, bathrooms, surface_total, surface_covered y price, la distribución de los datos por debajo del límite inferior (cuartil 1) y por encima del límite superior (cuartil 3). Para price, aunque se ven algunos datos atípicos, se puede obtener rápidamente una idea del rango de valores comunes y limitantes de la distribución. Por ejemplo, la mediana de esta variable es aproximadamente de 160000 USD (la línea que divide la caja del diagrama).\n",
    "</font>"
   ]
  },
  {
   "cell_type": "code",
   "execution_count": 34,
   "metadata": {
    "scrolled": false
   },
   "outputs": [
    {
     "data": {
      "image/png": "[encoded data removed]",
      "text/plain": [
       "<Figure size 1296x576 with 6 Axes>"
      ]
     },
     "metadata": {
      "needs_background": "light"
     },
     "output_type": "display_data"
    }
   ],
   "source": [
    "plt.figure(figsize = (6*3,8))\n",
    "    \n",
    "plt.subplot(2,3,1)\n",
    "sns.boxplot(outliers.rooms, color = 'green')\n",
    "\n",
    "plt.subplot(2,3,2)\n",
    "sns.boxplot(outliers.bedrooms, color = 'green')\n",
    "\n",
    "plt.subplot(2,3,3)\n",
    "sns.boxplot(outliers.bathrooms, color = 'green')\n",
    "\n",
    "plt.subplot(2,3,4)\n",
    "sns.boxplot(outliers.surface_total, color = 'green')\n",
    "\n",
    "plt.subplot(2,3,5)\n",
    "sns.boxplot(outliers.surface_covered, color = 'green')\n",
    "\n",
    "plt.subplot(2,3,6)\n",
    "sns.boxplot(outliers.price, color = 'green')\n",
    "\n",
    "plt.tight_layout()\n",
    "# plt.savefig('Retiro_outliers_Proy2.png', dpi = 300)\n",
    "plt.show()"
   ]
  },
  {
   "cell_type": "code",
   "execution_count": 35,
   "metadata": {},
   "outputs": [
    {
     "data": {
      "text/plain": [
       "l3                   0\n",
       "rooms                0\n",
       "bedrooms             0\n",
       "bathrooms          772\n",
       "surface_total        0\n",
       "surface_covered    456\n",
       "price                0\n",
       "property_type        0\n",
       "dtype: int64"
      ]
     },
     "execution_count": 35,
     "metadata": {},
     "output_type": "execute_result"
    }
   ],
   "source": [
    "# Existen datos null en algunas columnas\n",
    "outliers.isna().sum()"
   ]
  },
  {
   "cell_type": "markdown",
   "metadata": {},
   "source": [
    "### Imputación de valores faltantes"
   ]
  },
  {
   "cell_type": "markdown",
   "metadata": {},
   "source": [
    "<font color=green>\n",
    "Una de las premisas del proyecto 1 es que surface_covered no debe ser mayor a surface_total. En el proyecto 1 se eliminaron estas instancias, en este caso se van a intercambiar los datos entre las categorías.\n",
    "</font>"
   ]
  },
  {
   "cell_type": "code",
   "execution_count": 36,
   "metadata": {},
   "outputs": [],
   "source": [
    "# Se copia dataset sin outliers\n",
    "df_noNaN = outliers.copy()"
   ]
  },
  {
   "cell_type": "code",
   "execution_count": 37,
   "metadata": {
    "scrolled": true
   },
   "outputs": [
    {
     "data": {
      "text/html": [
       "<div>\n",
       "<style scoped>\n",
       "    .dataframe tbody tr th:only-of-type {\n",
       "        vertical-align: middle;\n",
       "    }\n",
       "\n",
       "    .dataframe tbody tr th {\n",
       "        vertical-align: top;\n",
       "    }\n",
       "\n",
       "    .dataframe thead th {\n",
       "        text-align: right;\n",
       "    }\n",
       "</style>\n",
       "<table border=\"1\" class=\"dataframe\">\n",
       "  <thead>\n",
       "    <tr style=\"text-align: right;\">\n",
       "      <th></th>\n",
       "      <th>rooms</th>\n",
       "      <th>bedrooms</th>\n",
       "      <th>bathrooms</th>\n",
       "      <th>surface_total</th>\n",
       "      <th>surface_covered</th>\n",
       "      <th>price</th>\n",
       "    </tr>\n",
       "  </thead>\n",
       "  <tbody>\n",
       "    <tr>\n",
       "      <th>count</th>\n",
       "      <td>70252.000000</td>\n",
       "      <td>70252.000000</td>\n",
       "      <td>69480.000000</td>\n",
       "      <td>70252.000000</td>\n",
       "      <td>69796.000000</td>\n",
       "      <td>70252.000000</td>\n",
       "    </tr>\n",
       "    <tr>\n",
       "      <th>mean</th>\n",
       "      <td>2.734954</td>\n",
       "      <td>1.792248</td>\n",
       "      <td>1.348474</td>\n",
       "      <td>73.134743</td>\n",
       "      <td>64.480171</td>\n",
       "      <td>186532.679867</td>\n",
       "    </tr>\n",
       "    <tr>\n",
       "      <th>std</th>\n",
       "      <td>1.003111</td>\n",
       "      <td>0.842772</td>\n",
       "      <td>0.567786</td>\n",
       "      <td>34.961827</td>\n",
       "      <td>29.048797</td>\n",
       "      <td>92761.998077</td>\n",
       "    </tr>\n",
       "    <tr>\n",
       "      <th>min</th>\n",
       "      <td>1.000000</td>\n",
       "      <td>0.000000</td>\n",
       "      <td>1.000000</td>\n",
       "      <td>15.000000</td>\n",
       "      <td>2.000000</td>\n",
       "      <td>7500.000000</td>\n",
       "    </tr>\n",
       "    <tr>\n",
       "      <th>25%</th>\n",
       "      <td>2.000000</td>\n",
       "      <td>1.000000</td>\n",
       "      <td>1.000000</td>\n",
       "      <td>47.000000</td>\n",
       "      <td>42.000000</td>\n",
       "      <td>118000.000000</td>\n",
       "    </tr>\n",
       "    <tr>\n",
       "      <th>50%</th>\n",
       "      <td>3.000000</td>\n",
       "      <td>2.000000</td>\n",
       "      <td>1.000000</td>\n",
       "      <td>65.000000</td>\n",
       "      <td>57.000000</td>\n",
       "      <td>164000.000000</td>\n",
       "    </tr>\n",
       "    <tr>\n",
       "      <th>75%</th>\n",
       "      <td>3.000000</td>\n",
       "      <td>2.000000</td>\n",
       "      <td>2.000000</td>\n",
       "      <td>90.000000</td>\n",
       "      <td>80.000000</td>\n",
       "      <td>235000.000000</td>\n",
       "    </tr>\n",
       "    <tr>\n",
       "      <th>max</th>\n",
       "      <td>6.000000</td>\n",
       "      <td>5.000000</td>\n",
       "      <td>3.000000</td>\n",
       "      <td>201.000000</td>\n",
       "      <td>173.000000</td>\n",
       "      <td>512299.000000</td>\n",
       "    </tr>\n",
       "  </tbody>\n",
       "</table>\n",
       "</div>"
      ],
      "text/plain": [
       "              rooms      bedrooms     bathrooms  surface_total  \\\n",
       "count  70252.000000  70252.000000  69480.000000   70252.000000   \n",
       "mean       2.734954      1.792248      1.348474      73.134743   \n",
       "std        1.003111      0.842772      0.567786      34.961827   \n",
       "min        1.000000      0.000000      1.000000      15.000000   \n",
       "25%        2.000000      1.000000      1.000000      47.000000   \n",
       "50%        3.000000      2.000000      1.000000      65.000000   \n",
       "75%        3.000000      2.000000      2.000000      90.000000   \n",
       "max        6.000000      5.000000      3.000000     201.000000   \n",
       "\n",
       "       surface_covered          price  \n",
       "count     69796.000000   70252.000000  \n",
       "mean         64.480171  186532.679867  \n",
       "std          29.048797   92761.998077  \n",
       "min           2.000000    7500.000000  \n",
       "25%          42.000000  118000.000000  \n",
       "50%          57.000000  164000.000000  \n",
       "75%          80.000000  235000.000000  \n",
       "max         173.000000  512299.000000  "
      ]
     },
     "execution_count": 37,
     "metadata": {},
     "output_type": "execute_result"
    }
   ],
   "source": [
    "df_noNaN.describe()"
   ]
  },
  {
   "cell_type": "markdown",
   "metadata": {},
   "source": [
    "<font color=green>\n",
    "Se reemplazan los datos null. Para 'bathrooms' se imputará con vecinos cercanos.\n",
    "</font>"
   ]
  },
  {
   "cell_type": "code",
   "execution_count": 38,
   "metadata": {},
   "outputs": [],
   "source": [
    "from sklearn.impute import KNNImputer\n",
    "\n",
    "#imp = SimpleImputer(missing_values=np.nan,strategy='median')\n",
    "imp = KNNImputer(n_neighbors=2)\n",
    "df_noNaN['bathrooms'] = np.round(imp.fit_transform(df_noNaN[['bathrooms']]),0)"
   ]
  },
  {
   "cell_type": "markdown",
   "metadata": {},
   "source": [
    "<font color=green>\n",
    "Para 'surface_covered' se usará el promedio de su categoría agrupada en tipo de propiedad.\n",
    "</font>"
   ]
  },
  {
   "cell_type": "code",
   "execution_count": 39,
   "metadata": {},
   "outputs": [],
   "source": [
    "valor_medio_surfaceC = df_noNaN.groupby('property_type')['surface_covered'].mean()"
   ]
  },
  {
   "cell_type": "code",
   "execution_count": 40,
   "metadata": {},
   "outputs": [
    {
     "data": {
      "text/plain": [
       "{'Casa': 113.78457446808511,\n",
       " 'Departamento': 61.77945431658792,\n",
       " 'PH': 80.75460434396037}"
      ]
     },
     "execution_count": 40,
     "metadata": {},
     "output_type": "execute_result"
    }
   ],
   "source": [
    "valor_medio_surfaceC = dict(valor_medio_surfaceC)\n",
    "valor_medio_surfaceC"
   ]
  },
  {
   "cell_type": "code",
   "execution_count": 41,
   "metadata": {},
   "outputs": [],
   "source": [
    "df_noNaN['surface_covered'] = df_noNaN.surface_covered.fillna(df_noNaN.property_type.map(valor_medio_surfaceC))"
   ]
  },
  {
   "cell_type": "code",
   "execution_count": 42,
   "metadata": {},
   "outputs": [
    {
     "data": {
      "text/plain": [
       "818"
      ]
     },
     "execution_count": 42,
     "metadata": {},
     "output_type": "execute_result"
    }
   ],
   "source": [
    "condicionD = df_noNaN.loc[df_noNaN.surface_total < df_noNaN.surface_covered]\n",
    "len(condicionD)"
   ]
  },
  {
   "cell_type": "code",
   "execution_count": 43,
   "metadata": {},
   "outputs": [
    {
     "data": {
      "text/html": [
       "<div>\n",
       "<style scoped>\n",
       "    .dataframe tbody tr th:only-of-type {\n",
       "        vertical-align: middle;\n",
       "    }\n",
       "\n",
       "    .dataframe tbody tr th {\n",
       "        vertical-align: top;\n",
       "    }\n",
       "\n",
       "    .dataframe thead th {\n",
       "        text-align: right;\n",
       "    }\n",
       "</style>\n",
       "<table border=\"1\" class=\"dataframe\">\n",
       "  <thead>\n",
       "    <tr style=\"text-align: right;\">\n",
       "      <th></th>\n",
       "      <th>surface_total</th>\n",
       "      <th>surface_covered</th>\n",
       "    </tr>\n",
       "  </thead>\n",
       "  <tbody>\n",
       "    <tr>\n",
       "      <th>435</th>\n",
       "      <td>35.0</td>\n",
       "      <td>61.779454</td>\n",
       "    </tr>\n",
       "    <tr>\n",
       "      <th>514</th>\n",
       "      <td>43.0</td>\n",
       "      <td>44.000000</td>\n",
       "    </tr>\n",
       "    <tr>\n",
       "      <th>553</th>\n",
       "      <td>65.0</td>\n",
       "      <td>66.000000</td>\n",
       "    </tr>\n",
       "    <tr>\n",
       "      <th>743</th>\n",
       "      <td>44.0</td>\n",
       "      <td>45.000000</td>\n",
       "    </tr>\n",
       "    <tr>\n",
       "      <th>815</th>\n",
       "      <td>78.0</td>\n",
       "      <td>79.000000</td>\n",
       "    </tr>\n",
       "  </tbody>\n",
       "</table>\n",
       "</div>"
      ],
      "text/plain": [
       "     surface_total  surface_covered\n",
       "435           35.0        61.779454\n",
       "514           43.0        44.000000\n",
       "553           65.0        66.000000\n",
       "743           44.0        45.000000\n",
       "815           78.0        79.000000"
      ]
     },
     "execution_count": 43,
     "metadata": {},
     "output_type": "execute_result"
    }
   ],
   "source": [
    "condicionD[['surface_total', 'surface_covered']].head()"
   ]
  },
  {
   "cell_type": "markdown",
   "metadata": {},
   "source": [
    "<font color=green>\n",
    "Existen 818 instancias donde la superficie cubierta es mayor a la superficie total. Se procede a intercambiar estas filas en el dataset de estudio.\n",
    "</font>"
   ]
  },
  {
   "cell_type": "code",
   "execution_count": 44,
   "metadata": {},
   "outputs": [],
   "source": [
    "df_noNaN.loc[condicionD.index, 'surface_total'] = condicionD.surface_covered\n",
    "df_noNaN.loc[condicionD.index, 'surface_covered'] = condicionD.surface_total"
   ]
  },
  {
   "cell_type": "code",
   "execution_count": 45,
   "metadata": {},
   "outputs": [
    {
     "data": {
      "text/plain": [
       "0"
      ]
     },
     "execution_count": 45,
     "metadata": {},
     "output_type": "execute_result"
    }
   ],
   "source": [
    "condicionDD = df_noNaN.loc[df_noNaN.surface_total < df_noNaN.surface_covered]\n",
    "len(condicionDD)"
   ]
  },
  {
   "cell_type": "markdown",
   "metadata": {},
   "source": [
    "<font color=green>\n",
    "Finalmente se confirma que no existen instancias donde la superficie cubierta es mayor a la superficie total.\n",
    "</font>"
   ]
  },
  {
   "cell_type": "code",
   "execution_count": 46,
   "metadata": {},
   "outputs": [],
   "source": [
    "listaIndex = [435, 514, 553, 743, 815]"
   ]
  },
  {
   "cell_type": "code",
   "execution_count": 47,
   "metadata": {},
   "outputs": [
    {
     "data": {
      "text/html": [
       "<div>\n",
       "<style scoped>\n",
       "    .dataframe tbody tr th:only-of-type {\n",
       "        vertical-align: middle;\n",
       "    }\n",
       "\n",
       "    .dataframe tbody tr th {\n",
       "        vertical-align: top;\n",
       "    }\n",
       "\n",
       "    .dataframe thead th {\n",
       "        text-align: right;\n",
       "    }\n",
       "</style>\n",
       "<table border=\"1\" class=\"dataframe\">\n",
       "  <thead>\n",
       "    <tr style=\"text-align: right;\">\n",
       "      <th></th>\n",
       "      <th>surface_total</th>\n",
       "      <th>surface_covered</th>\n",
       "    </tr>\n",
       "  </thead>\n",
       "  <tbody>\n",
       "    <tr>\n",
       "      <th>435</th>\n",
       "      <td>61.779454</td>\n",
       "      <td>35.0</td>\n",
       "    </tr>\n",
       "    <tr>\n",
       "      <th>514</th>\n",
       "      <td>44.000000</td>\n",
       "      <td>43.0</td>\n",
       "    </tr>\n",
       "    <tr>\n",
       "      <th>553</th>\n",
       "      <td>66.000000</td>\n",
       "      <td>65.0</td>\n",
       "    </tr>\n",
       "    <tr>\n",
       "      <th>743</th>\n",
       "      <td>45.000000</td>\n",
       "      <td>44.0</td>\n",
       "    </tr>\n",
       "    <tr>\n",
       "      <th>815</th>\n",
       "      <td>79.000000</td>\n",
       "      <td>78.0</td>\n",
       "    </tr>\n",
       "  </tbody>\n",
       "</table>\n",
       "</div>"
      ],
      "text/plain": [
       "     surface_total  surface_covered\n",
       "435      61.779454             35.0\n",
       "514      44.000000             43.0\n",
       "553      66.000000             65.0\n",
       "743      45.000000             44.0\n",
       "815      79.000000             78.0"
      ]
     },
     "execution_count": 47,
     "metadata": {},
     "output_type": "execute_result"
    }
   ],
   "source": [
    "df_noNaN[['surface_total', 'surface_covered']][df_noNaN.index.isin(listaIndex)]"
   ]
  },
  {
   "cell_type": "code",
   "execution_count": 48,
   "metadata": {},
   "outputs": [
    {
     "data": {
      "text/plain": [
       "l3                 0\n",
       "rooms              0\n",
       "bedrooms           0\n",
       "bathrooms          0\n",
       "surface_total      0\n",
       "surface_covered    0\n",
       "price              0\n",
       "property_type      0\n",
       "dtype: int64"
      ]
     },
     "execution_count": 48,
     "metadata": {},
     "output_type": "execute_result"
    }
   ],
   "source": [
    "# Se revisa nuevamente los valores faltantes\n",
    "df_noNaN.isna().sum()"
   ]
  },
  {
   "cell_type": "markdown",
   "metadata": {},
   "source": [
    "### Encoding"
   ]
  },
  {
   "cell_type": "markdown",
   "metadata": {},
   "source": [
    "<font color=blue>\n",
    "'Property_type' entra como variable de entrenamiento al modelo con el fín de mejorar la predicción de precio.\n",
    "</font"
   ]
  },
  {
   "cell_type": "markdown",
   "metadata": {},
   "source": [
    "<font color=green>\n",
    "Usando LabelEncoder de Scikit-learn podemos transformar nuestras variables categóricas en numéricas sin pasar por variables dummies. Luego, vamos a utilizar OneHotEncoder para transformar las categorías numéricas en categorías binarias.\n",
    "</font"
   ]
  },
  {
   "cell_type": "code",
   "execution_count": 49,
   "metadata": {},
   "outputs": [],
   "source": [
    "from sklearn.preprocessing import LabelEncoder\n",
    "from sklearn.preprocessing import OneHotEncoder\n",
    " \n",
    "df_enc = df_noNaN.copy()"
   ]
  },
  {
   "cell_type": "code",
   "execution_count": 50,
   "metadata": {},
   "outputs": [
    {
     "data": {
      "text/plain": [
       "l3                 0\n",
       "rooms              0\n",
       "bedrooms           0\n",
       "bathrooms          0\n",
       "surface_total      0\n",
       "surface_covered    0\n",
       "price              0\n",
       "property_type      0\n",
       "dtype: int64"
      ]
     },
     "execution_count": 50,
     "metadata": {},
     "output_type": "execute_result"
    }
   ],
   "source": [
    "df_enc.isna().sum()"
   ]
  },
  {
   "cell_type": "code",
   "execution_count": 51,
   "metadata": {},
   "outputs": [
    {
     "data": {
      "text/plain": [
       "LabelEncoder()"
      ]
     },
     "execution_count": 51,
     "metadata": {},
     "output_type": "execute_result"
    }
   ],
   "source": [
    "# Llamamos al algoritmo\n",
    "le_prop_type = LabelEncoder()\n",
    "# Lo fiteamos con las categorias que tenemos en nuestro dataset.\n",
    "le_prop_type.fit(df_enc['property_type'])"
   ]
  },
  {
   "cell_type": "code",
   "execution_count": 52,
   "metadata": {},
   "outputs": [
    {
     "data": {
      "text/plain": [
       "array(['Casa', 'Departamento', 'PH'], dtype=object)"
      ]
     },
     "execution_count": 52,
     "metadata": {},
     "output_type": "execute_result"
    }
   ],
   "source": [
    "# Estas son las categorias que eligio el algoritmo. Les asignara un numero a cada categoria, \n",
    "# yendo de izquierda a derecha [recordemos que python cuenta desde 0]\n",
    "le_prop_type.classes_"
   ]
  },
  {
   "cell_type": "code",
   "execution_count": 53,
   "metadata": {},
   "outputs": [],
   "source": [
    "#Transformamos la categoria \"property_type\" en numeros.\n",
    "cat_prop_type = le_prop_type.transform(df_enc['property_type'])"
   ]
  },
  {
   "cell_type": "code",
   "execution_count": 54,
   "metadata": {},
   "outputs": [
    {
     "name": "stdout",
     "output_type": "stream",
     "text": [
      "[2 2 2 ... 2 2 1]\n"
     ]
    },
    {
     "data": {
      "text/plain": [
       "[<matplotlib.lines.Line2D at 0x160049f3888>]"
      ]
     },
     "execution_count": 54,
     "metadata": {},
     "output_type": "execute_result"
    },
    {
     "data": {
      "image/png": "[encoded data removed]",
      "text/plain": [
       "<Figure size 432x288 with 1 Axes>"
      ]
     },
     "metadata": {
      "needs_background": "light"
     },
     "output_type": "display_data"
    }
   ],
   "source": [
    "#Les proponemos formas de visualizar que hizo sckit-learn\n",
    "print(cat_prop_type)\n",
    "plt.plot(cat_prop_type,'o')"
   ]
  },
  {
   "cell_type": "code",
   "execution_count": 55,
   "metadata": {},
   "outputs": [],
   "source": [
    "# Actualizamos el viejo dataset\n",
    "df_enc.loc[:,'property_type_category'] = cat_prop_type"
   ]
  },
  {
   "cell_type": "markdown",
   "metadata": {},
   "source": [
    "<font color=green>\n",
    "Ahora vamos a transformar las categorías numéricas que acabamos de definir, en binarias. De lo contrario, el algoritmo de ML que vayamos a usar las interpretaria como variables categoricas ordinales [y no lo son!].\n",
    "</font"
   ]
  },
  {
   "cell_type": "code",
   "execution_count": 56,
   "metadata": {},
   "outputs": [
    {
     "data": {
      "text/html": [
       "<div>\n",
       "<style scoped>\n",
       "    .dataframe tbody tr th:only-of-type {\n",
       "        vertical-align: middle;\n",
       "    }\n",
       "\n",
       "    .dataframe tbody tr th {\n",
       "        vertical-align: top;\n",
       "    }\n",
       "\n",
       "    .dataframe thead th {\n",
       "        text-align: right;\n",
       "    }\n",
       "</style>\n",
       "<table border=\"1\" class=\"dataframe\">\n",
       "  <thead>\n",
       "    <tr style=\"text-align: right;\">\n",
       "      <th></th>\n",
       "      <th>l3</th>\n",
       "      <th>rooms</th>\n",
       "      <th>bedrooms</th>\n",
       "      <th>bathrooms</th>\n",
       "      <th>surface_total</th>\n",
       "      <th>surface_covered</th>\n",
       "      <th>price</th>\n",
       "      <th>property_type</th>\n",
       "      <th>property_type_category</th>\n",
       "      <th>0</th>\n",
       "      <th>1</th>\n",
       "      <th>2</th>\n",
       "    </tr>\n",
       "  </thead>\n",
       "  <tbody>\n",
       "    <tr>\n",
       "      <th>0</th>\n",
       "      <td>Boedo</td>\n",
       "      <td>2.0</td>\n",
       "      <td>1.0</td>\n",
       "      <td>2.0</td>\n",
       "      <td>70.0</td>\n",
       "      <td>58.0</td>\n",
       "      <td>159000.0</td>\n",
       "      <td>PH</td>\n",
       "      <td>2</td>\n",
       "      <td>0.0</td>\n",
       "      <td>0.0</td>\n",
       "      <td>1.0</td>\n",
       "    </tr>\n",
       "    <tr>\n",
       "      <th>1</th>\n",
       "      <td>Palermo</td>\n",
       "      <td>2.0</td>\n",
       "      <td>1.0</td>\n",
       "      <td>1.0</td>\n",
       "      <td>45.0</td>\n",
       "      <td>45.0</td>\n",
       "      <td>125000.0</td>\n",
       "      <td>PH</td>\n",
       "      <td>2</td>\n",
       "      <td>0.0</td>\n",
       "      <td>0.0</td>\n",
       "      <td>1.0</td>\n",
       "    </tr>\n",
       "    <tr>\n",
       "      <th>2</th>\n",
       "      <td>Palermo</td>\n",
       "      <td>2.0</td>\n",
       "      <td>1.0</td>\n",
       "      <td>1.0</td>\n",
       "      <td>85.0</td>\n",
       "      <td>50.0</td>\n",
       "      <td>295000.0</td>\n",
       "      <td>PH</td>\n",
       "      <td>2</td>\n",
       "      <td>0.0</td>\n",
       "      <td>0.0</td>\n",
       "      <td>1.0</td>\n",
       "    </tr>\n",
       "    <tr>\n",
       "      <th>3</th>\n",
       "      <td>Villa Crespo</td>\n",
       "      <td>2.0</td>\n",
       "      <td>1.0</td>\n",
       "      <td>1.0</td>\n",
       "      <td>56.0</td>\n",
       "      <td>56.0</td>\n",
       "      <td>150000.0</td>\n",
       "      <td>PH</td>\n",
       "      <td>2</td>\n",
       "      <td>0.0</td>\n",
       "      <td>0.0</td>\n",
       "      <td>1.0</td>\n",
       "    </tr>\n",
       "    <tr>\n",
       "      <th>4</th>\n",
       "      <td>Villa Crespo</td>\n",
       "      <td>2.0</td>\n",
       "      <td>1.0</td>\n",
       "      <td>1.0</td>\n",
       "      <td>70.0</td>\n",
       "      <td>70.0</td>\n",
       "      <td>159500.0</td>\n",
       "      <td>PH</td>\n",
       "      <td>2</td>\n",
       "      <td>0.0</td>\n",
       "      <td>0.0</td>\n",
       "      <td>1.0</td>\n",
       "    </tr>\n",
       "  </tbody>\n",
       "</table>\n",
       "</div>"
      ],
      "text/plain": [
       "             l3  rooms  bedrooms  bathrooms  surface_total  surface_covered  \\\n",
       "0         Boedo    2.0       1.0        2.0           70.0             58.0   \n",
       "1       Palermo    2.0       1.0        1.0           45.0             45.0   \n",
       "2       Palermo    2.0       1.0        1.0           85.0             50.0   \n",
       "3  Villa Crespo    2.0       1.0        1.0           56.0             56.0   \n",
       "4  Villa Crespo    2.0       1.0        1.0           70.0             70.0   \n",
       "\n",
       "      price property_type  property_type_category    0    1    2  \n",
       "0  159000.0            PH                       2  0.0  0.0  1.0  \n",
       "1  125000.0            PH                       2  0.0  0.0  1.0  \n",
       "2  295000.0            PH                       2  0.0  0.0  1.0  \n",
       "3  150000.0            PH                       2  0.0  0.0  1.0  \n",
       "4  159500.0            PH                       2  0.0  0.0  1.0  "
      ]
     },
     "execution_count": 56,
     "metadata": {},
     "output_type": "execute_result"
    }
   ],
   "source": [
    "# creating instance of one-hot-encoder\n",
    "\n",
    "enc = OneHotEncoder(handle_unknown='ignore')\n",
    "# passing bridge-types-cat column (label encoded values of bridge_types)\n",
    "enc_df = pd.DataFrame(enc.fit_transform(df_enc[['property_type_category']]).toarray())\n",
    "# merge with main df bridge_df on key values\n",
    "df_enc = df_enc.join(enc_df)\n",
    "df_enc.head()"
   ]
  },
  {
   "cell_type": "code",
   "execution_count": 57,
   "metadata": {},
   "outputs": [
    {
     "data": {
      "text/html": [
       "<div>\n",
       "<style scoped>\n",
       "    .dataframe tbody tr th:only-of-type {\n",
       "        vertical-align: middle;\n",
       "    }\n",
       "\n",
       "    .dataframe tbody tr th {\n",
       "        vertical-align: top;\n",
       "    }\n",
       "\n",
       "    .dataframe thead th {\n",
       "        text-align: right;\n",
       "    }\n",
       "</style>\n",
       "<table border=\"1\" class=\"dataframe\">\n",
       "  <thead>\n",
       "    <tr style=\"text-align: right;\">\n",
       "      <th></th>\n",
       "      <th>l3</th>\n",
       "      <th>rooms</th>\n",
       "      <th>bedrooms</th>\n",
       "      <th>bathrooms</th>\n",
       "      <th>surface_total</th>\n",
       "      <th>surface_covered</th>\n",
       "      <th>price</th>\n",
       "      <th>property_type</th>\n",
       "      <th>property_type_category</th>\n",
       "      <th>Casa</th>\n",
       "      <th>Departamento</th>\n",
       "      <th>PH</th>\n",
       "    </tr>\n",
       "  </thead>\n",
       "  <tbody>\n",
       "    <tr>\n",
       "      <th>0</th>\n",
       "      <td>Boedo</td>\n",
       "      <td>2.0</td>\n",
       "      <td>1.0</td>\n",
       "      <td>2.0</td>\n",
       "      <td>70.0</td>\n",
       "      <td>58.0</td>\n",
       "      <td>159000.0</td>\n",
       "      <td>PH</td>\n",
       "      <td>2</td>\n",
       "      <td>0.0</td>\n",
       "      <td>0.0</td>\n",
       "      <td>1.0</td>\n",
       "    </tr>\n",
       "    <tr>\n",
       "      <th>1</th>\n",
       "      <td>Palermo</td>\n",
       "      <td>2.0</td>\n",
       "      <td>1.0</td>\n",
       "      <td>1.0</td>\n",
       "      <td>45.0</td>\n",
       "      <td>45.0</td>\n",
       "      <td>125000.0</td>\n",
       "      <td>PH</td>\n",
       "      <td>2</td>\n",
       "      <td>0.0</td>\n",
       "      <td>0.0</td>\n",
       "      <td>1.0</td>\n",
       "    </tr>\n",
       "    <tr>\n",
       "      <th>2</th>\n",
       "      <td>Palermo</td>\n",
       "      <td>2.0</td>\n",
       "      <td>1.0</td>\n",
       "      <td>1.0</td>\n",
       "      <td>85.0</td>\n",
       "      <td>50.0</td>\n",
       "      <td>295000.0</td>\n",
       "      <td>PH</td>\n",
       "      <td>2</td>\n",
       "      <td>0.0</td>\n",
       "      <td>0.0</td>\n",
       "      <td>1.0</td>\n",
       "    </tr>\n",
       "    <tr>\n",
       "      <th>3</th>\n",
       "      <td>Villa Crespo</td>\n",
       "      <td>2.0</td>\n",
       "      <td>1.0</td>\n",
       "      <td>1.0</td>\n",
       "      <td>56.0</td>\n",
       "      <td>56.0</td>\n",
       "      <td>150000.0</td>\n",
       "      <td>PH</td>\n",
       "      <td>2</td>\n",
       "      <td>0.0</td>\n",
       "      <td>0.0</td>\n",
       "      <td>1.0</td>\n",
       "    </tr>\n",
       "    <tr>\n",
       "      <th>4</th>\n",
       "      <td>Villa Crespo</td>\n",
       "      <td>2.0</td>\n",
       "      <td>1.0</td>\n",
       "      <td>1.0</td>\n",
       "      <td>70.0</td>\n",
       "      <td>70.0</td>\n",
       "      <td>159500.0</td>\n",
       "      <td>PH</td>\n",
       "      <td>2</td>\n",
       "      <td>0.0</td>\n",
       "      <td>0.0</td>\n",
       "      <td>1.0</td>\n",
       "    </tr>\n",
       "  </tbody>\n",
       "</table>\n",
       "</div>"
      ],
      "text/plain": [
       "             l3  rooms  bedrooms  bathrooms  surface_total  surface_covered  \\\n",
       "0         Boedo    2.0       1.0        2.0           70.0             58.0   \n",
       "1       Palermo    2.0       1.0        1.0           45.0             45.0   \n",
       "2       Palermo    2.0       1.0        1.0           85.0             50.0   \n",
       "3  Villa Crespo    2.0       1.0        1.0           56.0             56.0   \n",
       "4  Villa Crespo    2.0       1.0        1.0           70.0             70.0   \n",
       "\n",
       "      price property_type  property_type_category  Casa  Departamento   PH  \n",
       "0  159000.0            PH                       2   0.0           0.0  1.0  \n",
       "1  125000.0            PH                       2   0.0           0.0  1.0  \n",
       "2  295000.0            PH                       2   0.0           0.0  1.0  \n",
       "3  150000.0            PH                       2   0.0           0.0  1.0  \n",
       "4  159500.0            PH                       2   0.0           0.0  1.0  "
      ]
     },
     "execution_count": 57,
     "metadata": {},
     "output_type": "execute_result"
    }
   ],
   "source": [
    "df_enc.rename(columns={0:'Casa',1:'Departamento',2:'PH'}, inplace=True)\n",
    "df_enc.head()"
   ]
  },
  {
   "cell_type": "markdown",
   "metadata": {},
   "source": [
    "<font color=blue>\n",
    "Ahora entra el 'l3' entra como variable de entrenamiento al modelo con el fín de mejorar la predicción de precio.\n",
    "</font"
   ]
  },
  {
   "cell_type": "markdown",
   "metadata": {},
   "source": [
    "<font color=green>\n",
    "Usando LabelEncoder de Scikit-learn podemos transformar nuestras variables categóricas en numéricas sin pasar por variables dummies. Luego, vamos a utilizar OneHotEncoder para transformar las categorías numéricas en categorías binarias.\n",
    "</font"
   ]
  },
  {
   "cell_type": "code",
   "execution_count": 58,
   "metadata": {},
   "outputs": [
    {
     "data": {
      "text/plain": [
       "0           Boedo\n",
       "1         Palermo\n",
       "2         Palermo\n",
       "3    Villa Crespo\n",
       "4    Villa Crespo\n",
       "Name: l3, dtype: object"
      ]
     },
     "execution_count": 58,
     "metadata": {},
     "output_type": "execute_result"
    }
   ],
   "source": [
    "from sklearn.preprocessing import LabelEncoder\n",
    "from sklearn.preprocessing import OneHotEncoder\n",
    " \n",
    "(df_enc['l3']).head()"
   ]
  },
  {
   "cell_type": "code",
   "execution_count": 59,
   "metadata": {},
   "outputs": [
    {
     "data": {
      "text/plain": [
       "LabelEncoder()"
      ]
     },
     "execution_count": 59,
     "metadata": {},
     "output_type": "execute_result"
    }
   ],
   "source": [
    "# Llamamos al algoritmo\n",
    "le_prop_type2 = LabelEncoder()\n",
    "# Lo fiteamos con las categorias que tenemos en nuestro dataset.\n",
    "le_prop_type2.fit(df_enc['l3'])"
   ]
  },
  {
   "cell_type": "code",
   "execution_count": 60,
   "metadata": {},
   "outputs": [
    {
     "data": {
      "text/plain": [
       "array(['Abasto', 'Agronomía', 'Almagro', 'Balvanera', 'Barracas',\n",
       "       'Barrio Norte', 'Belgrano', 'Boca', 'Boedo', 'Caballito',\n",
       "       'Catalinas', 'Centro / Microcentro', 'Chacarita', 'Coghlan',\n",
       "       'Colegiales', 'Congreso', 'Constitución', 'Flores', 'Floresta',\n",
       "       'Las Cañitas', 'Liniers', 'Mataderos', 'Monserrat', 'Monte Castro',\n",
       "       'Nuñez', 'Once', 'Palermo', 'Parque Avellaneda',\n",
       "       'Parque Centenario', 'Parque Chacabuco', 'Parque Chas',\n",
       "       'Parque Patricios', 'Paternal', 'Pompeya', 'Puerto Madero',\n",
       "       'Recoleta', 'Retiro', 'Saavedra', 'San Cristobal', 'San Nicolás',\n",
       "       'San Telmo', 'Tribunales', 'Velez Sarsfield', 'Versalles',\n",
       "       'Villa Crespo', 'Villa Devoto', 'Villa General Mitre',\n",
       "       'Villa Lugano', 'Villa Luro', 'Villa Ortuzar', 'Villa Pueyrredón',\n",
       "       'Villa Real', 'Villa Riachuelo', 'Villa Santa Rita',\n",
       "       'Villa Soldati', 'Villa Urquiza', 'Villa del Parque'], dtype=object)"
      ]
     },
     "execution_count": 60,
     "metadata": {},
     "output_type": "execute_result"
    }
   ],
   "source": [
    "# Estas son las categorias que eligio el algoritmo. Les asignara un numero a cada categoria, \n",
    "# yendo de izquierda a derecha [recordemos que python cuenta desde 0]\n",
    "le_prop_type2.classes_"
   ]
  },
  {
   "cell_type": "code",
   "execution_count": 61,
   "metadata": {},
   "outputs": [],
   "source": [
    "#Transformamos la categoria \"l3\" en numeros.\n",
    "cat_prop_type2 = le_prop_type2.transform(df_enc['l3'])"
   ]
  },
  {
   "cell_type": "code",
   "execution_count": 62,
   "metadata": {},
   "outputs": [
    {
     "name": "stdout",
     "output_type": "stream",
     "text": [
      "[ 8 26 26 ... 26 26 26]\n"
     ]
    },
    {
     "data": {
      "text/plain": [
       "[<matplotlib.lines.Line2D at 0x1600524b248>]"
      ]
     },
     "execution_count": 62,
     "metadata": {},
     "output_type": "execute_result"
    },
    {
     "data": {
      "image/png": "[encoded data removed]",
      "text/plain": [
       "<Figure size 432x288 with 1 Axes>"
      ]
     },
     "metadata": {
      "needs_background": "light"
     },
     "output_type": "display_data"
    }
   ],
   "source": [
    "#Les proponemos formas de visualizar que hizo sckit-learn\n",
    "print(cat_prop_type2)\n",
    "plt.plot(cat_prop_type2,'o')"
   ]
  },
  {
   "cell_type": "code",
   "execution_count": 63,
   "metadata": {},
   "outputs": [],
   "source": [
    "# Actualizamos el viejo dataset\n",
    "df_enc.loc[:,'l3_category'] = cat_prop_type2"
   ]
  },
  {
   "cell_type": "markdown",
   "metadata": {},
   "source": [
    "<font color=green>\n",
    "Ahora vamos a transformar las categorías numéricas que acabamos de definir, en binarias. De lo contrario, el algoritmo de ML que vayamos a usar las interpretaria como variables categoricas ordinales [y no lo son!].\n",
    "</font"
   ]
  },
  {
   "cell_type": "code",
   "execution_count": 64,
   "metadata": {},
   "outputs": [
    {
     "data": {
      "text/html": [
       "<div>\n",
       "<style scoped>\n",
       "    .dataframe tbody tr th:only-of-type {\n",
       "        vertical-align: middle;\n",
       "    }\n",
       "\n",
       "    .dataframe tbody tr th {\n",
       "        vertical-align: top;\n",
       "    }\n",
       "\n",
       "    .dataframe thead th {\n",
       "        text-align: right;\n",
       "    }\n",
       "</style>\n",
       "<table border=\"1\" class=\"dataframe\">\n",
       "  <thead>\n",
       "    <tr style=\"text-align: right;\">\n",
       "      <th></th>\n",
       "      <th>l3</th>\n",
       "      <th>rooms</th>\n",
       "      <th>bedrooms</th>\n",
       "      <th>bathrooms</th>\n",
       "      <th>surface_total</th>\n",
       "      <th>surface_covered</th>\n",
       "      <th>price</th>\n",
       "      <th>property_type</th>\n",
       "      <th>property_type_category</th>\n",
       "      <th>Casa</th>\n",
       "      <th>...</th>\n",
       "      <th>47</th>\n",
       "      <th>48</th>\n",
       "      <th>49</th>\n",
       "      <th>50</th>\n",
       "      <th>51</th>\n",
       "      <th>52</th>\n",
       "      <th>53</th>\n",
       "      <th>54</th>\n",
       "      <th>55</th>\n",
       "      <th>56</th>\n",
       "    </tr>\n",
       "  </thead>\n",
       "  <tbody>\n",
       "    <tr>\n",
       "      <th>0</th>\n",
       "      <td>Boedo</td>\n",
       "      <td>2.0</td>\n",
       "      <td>1.0</td>\n",
       "      <td>2.0</td>\n",
       "      <td>70.0</td>\n",
       "      <td>58.0</td>\n",
       "      <td>159000.0</td>\n",
       "      <td>PH</td>\n",
       "      <td>2</td>\n",
       "      <td>0.0</td>\n",
       "      <td>...</td>\n",
       "      <td>0.0</td>\n",
       "      <td>0.0</td>\n",
       "      <td>0.0</td>\n",
       "      <td>0.0</td>\n",
       "      <td>0.0</td>\n",
       "      <td>0.0</td>\n",
       "      <td>0.0</td>\n",
       "      <td>0.0</td>\n",
       "      <td>0.0</td>\n",
       "      <td>0.0</td>\n",
       "    </tr>\n",
       "    <tr>\n",
       "      <th>1</th>\n",
       "      <td>Palermo</td>\n",
       "      <td>2.0</td>\n",
       "      <td>1.0</td>\n",
       "      <td>1.0</td>\n",
       "      <td>45.0</td>\n",
       "      <td>45.0</td>\n",
       "      <td>125000.0</td>\n",
       "      <td>PH</td>\n",
       "      <td>2</td>\n",
       "      <td>0.0</td>\n",
       "      <td>...</td>\n",
       "      <td>0.0</td>\n",
       "      <td>0.0</td>\n",
       "      <td>0.0</td>\n",
       "      <td>0.0</td>\n",
       "      <td>0.0</td>\n",
       "      <td>0.0</td>\n",
       "      <td>0.0</td>\n",
       "      <td>0.0</td>\n",
       "      <td>0.0</td>\n",
       "      <td>0.0</td>\n",
       "    </tr>\n",
       "    <tr>\n",
       "      <th>2</th>\n",
       "      <td>Palermo</td>\n",
       "      <td>2.0</td>\n",
       "      <td>1.0</td>\n",
       "      <td>1.0</td>\n",
       "      <td>85.0</td>\n",
       "      <td>50.0</td>\n",
       "      <td>295000.0</td>\n",
       "      <td>PH</td>\n",
       "      <td>2</td>\n",
       "      <td>0.0</td>\n",
       "      <td>...</td>\n",
       "      <td>0.0</td>\n",
       "      <td>0.0</td>\n",
       "      <td>0.0</td>\n",
       "      <td>0.0</td>\n",
       "      <td>0.0</td>\n",
       "      <td>0.0</td>\n",
       "      <td>0.0</td>\n",
       "      <td>0.0</td>\n",
       "      <td>0.0</td>\n",
       "      <td>0.0</td>\n",
       "    </tr>\n",
       "    <tr>\n",
       "      <th>3</th>\n",
       "      <td>Villa Crespo</td>\n",
       "      <td>2.0</td>\n",
       "      <td>1.0</td>\n",
       "      <td>1.0</td>\n",
       "      <td>56.0</td>\n",
       "      <td>56.0</td>\n",
       "      <td>150000.0</td>\n",
       "      <td>PH</td>\n",
       "      <td>2</td>\n",
       "      <td>0.0</td>\n",
       "      <td>...</td>\n",
       "      <td>0.0</td>\n",
       "      <td>0.0</td>\n",
       "      <td>0.0</td>\n",
       "      <td>0.0</td>\n",
       "      <td>0.0</td>\n",
       "      <td>0.0</td>\n",
       "      <td>0.0</td>\n",
       "      <td>0.0</td>\n",
       "      <td>0.0</td>\n",
       "      <td>0.0</td>\n",
       "    </tr>\n",
       "    <tr>\n",
       "      <th>4</th>\n",
       "      <td>Villa Crespo</td>\n",
       "      <td>2.0</td>\n",
       "      <td>1.0</td>\n",
       "      <td>1.0</td>\n",
       "      <td>70.0</td>\n",
       "      <td>70.0</td>\n",
       "      <td>159500.0</td>\n",
       "      <td>PH</td>\n",
       "      <td>2</td>\n",
       "      <td>0.0</td>\n",
       "      <td>...</td>\n",
       "      <td>0.0</td>\n",
       "      <td>0.0</td>\n",
       "      <td>0.0</td>\n",
       "      <td>0.0</td>\n",
       "      <td>0.0</td>\n",
       "      <td>0.0</td>\n",
       "      <td>0.0</td>\n",
       "      <td>0.0</td>\n",
       "      <td>0.0</td>\n",
       "      <td>0.0</td>\n",
       "    </tr>\n",
       "  </tbody>\n",
       "</table>\n",
       "<p>5 rows × 70 columns</p>\n",
       "</div>"
      ],
      "text/plain": [
       "             l3  rooms  bedrooms  bathrooms  surface_total  surface_covered  \\\n",
       "0         Boedo    2.0       1.0        2.0           70.0             58.0   \n",
       "1       Palermo    2.0       1.0        1.0           45.0             45.0   \n",
       "2       Palermo    2.0       1.0        1.0           85.0             50.0   \n",
       "3  Villa Crespo    2.0       1.0        1.0           56.0             56.0   \n",
       "4  Villa Crespo    2.0       1.0        1.0           70.0             70.0   \n",
       "\n",
       "      price property_type  property_type_category  Casa  ...   47   48   49  \\\n",
       "0  159000.0            PH                       2   0.0  ...  0.0  0.0  0.0   \n",
       "1  125000.0            PH                       2   0.0  ...  0.0  0.0  0.0   \n",
       "2  295000.0            PH                       2   0.0  ...  0.0  0.0  0.0   \n",
       "3  150000.0            PH                       2   0.0  ...  0.0  0.0  0.0   \n",
       "4  159500.0            PH                       2   0.0  ...  0.0  0.0  0.0   \n",
       "\n",
       "    50   51   52   53   54   55   56  \n",
       "0  0.0  0.0  0.0  0.0  0.0  0.0  0.0  \n",
       "1  0.0  0.0  0.0  0.0  0.0  0.0  0.0  \n",
       "2  0.0  0.0  0.0  0.0  0.0  0.0  0.0  \n",
       "3  0.0  0.0  0.0  0.0  0.0  0.0  0.0  \n",
       "4  0.0  0.0  0.0  0.0  0.0  0.0  0.0  \n",
       "\n",
       "[5 rows x 70 columns]"
      ]
     },
     "execution_count": 64,
     "metadata": {},
     "output_type": "execute_result"
    }
   ],
   "source": [
    "# creating instance of one-hot-encoder\n",
    "\n",
    "enc2 = OneHotEncoder(handle_unknown='ignore')\n",
    "# passing bridge-types-cat column (label encoded values of bridge_types)\n",
    "enc_df2 = pd.DataFrame(enc2.fit_transform(df_enc[['l3']]).toarray())\n",
    "# merge with main df bridge_df on key values\n",
    "df_enc = df_enc.join(enc_df2)\n",
    "df_enc.head()"
   ]
  },
  {
   "cell_type": "markdown",
   "metadata": {},
   "source": [
    "<font color=green>\n",
    "En total son 57 barrios, se cambia en nombre de la categoría nominal a una referencia genérica. Por ejemplo b1 corresponde a barrio 1\n",
    "</font"
   ]
  },
  {
   "cell_type": "code",
   "execution_count": 65,
   "metadata": {},
   "outputs": [],
   "source": [
    "df_enc.rename(columns={0:'b1',1:'b2',2:'b3',3:'b4',4:'b5',5:'b6',6:'b7',7:'b8',8:'b9',9:'b10',10:'b11',\n",
    "                     11:'b12',12:'b13',13:'b14',14:'b15',15:'b16',16:'b17',17:'b18',18:'b19',19:'b20',20:'b21',\n",
    "                     21:'b22',22:'b23',23:'b24',24:'b25',25:'b26',26:'b27',27:'b28',28:'b29',29:'b30',30:'b31',\n",
    "                     31:'b32',32:'b33',33:'b34',34:'b35',35:'b36',36:'b37',37:'b38',38:'b39',39:'b40',40:'b41',\n",
    "                     41:'b42',42:'b43',43:'b44',44:'b45',45:'b46',46:'b47',47:'b48',48:'b49',49:'b50',50:'b51',\n",
    "                     51:'b52',52:'b53',53:'b54',54:'b55',55:'b56',56:'b57'}, inplace=True)"
   ]
  },
  {
   "cell_type": "markdown",
   "metadata": {},
   "source": [
    "<font color=green>\n",
    "Se eliminan las columnas base del encodeo. De tal manera, me quedo con las categorías necesarias para continuar los siguientes modelamientos.\n",
    "</font"
   ]
  },
  {
   "cell_type": "code",
   "execution_count": 66,
   "metadata": {},
   "outputs": [
    {
     "data": {
      "text/html": [
       "<div>\n",
       "<style scoped>\n",
       "    .dataframe tbody tr th:only-of-type {\n",
       "        vertical-align: middle;\n",
       "    }\n",
       "\n",
       "    .dataframe tbody tr th {\n",
       "        vertical-align: top;\n",
       "    }\n",
       "\n",
       "    .dataframe thead th {\n",
       "        text-align: right;\n",
       "    }\n",
       "</style>\n",
       "<table border=\"1\" class=\"dataframe\">\n",
       "  <thead>\n",
       "    <tr style=\"text-align: right;\">\n",
       "      <th></th>\n",
       "      <th>rooms</th>\n",
       "      <th>bedrooms</th>\n",
       "      <th>bathrooms</th>\n",
       "      <th>surface_total</th>\n",
       "      <th>surface_covered</th>\n",
       "      <th>price</th>\n",
       "      <th>Casa</th>\n",
       "      <th>Departamento</th>\n",
       "      <th>PH</th>\n",
       "      <th>b1</th>\n",
       "      <th>...</th>\n",
       "      <th>b48</th>\n",
       "      <th>b49</th>\n",
       "      <th>b50</th>\n",
       "      <th>b51</th>\n",
       "      <th>b52</th>\n",
       "      <th>b53</th>\n",
       "      <th>b54</th>\n",
       "      <th>b55</th>\n",
       "      <th>b56</th>\n",
       "      <th>b57</th>\n",
       "    </tr>\n",
       "  </thead>\n",
       "  <tbody>\n",
       "    <tr>\n",
       "      <th>0</th>\n",
       "      <td>2.0</td>\n",
       "      <td>1.0</td>\n",
       "      <td>2.0</td>\n",
       "      <td>70.0</td>\n",
       "      <td>58.0</td>\n",
       "      <td>159000.0</td>\n",
       "      <td>0.0</td>\n",
       "      <td>0.0</td>\n",
       "      <td>1.0</td>\n",
       "      <td>0.0</td>\n",
       "      <td>...</td>\n",
       "      <td>0.0</td>\n",
       "      <td>0.0</td>\n",
       "      <td>0.0</td>\n",
       "      <td>0.0</td>\n",
       "      <td>0.0</td>\n",
       "      <td>0.0</td>\n",
       "      <td>0.0</td>\n",
       "      <td>0.0</td>\n",
       "      <td>0.0</td>\n",
       "      <td>0.0</td>\n",
       "    </tr>\n",
       "    <tr>\n",
       "      <th>1</th>\n",
       "      <td>2.0</td>\n",
       "      <td>1.0</td>\n",
       "      <td>1.0</td>\n",
       "      <td>45.0</td>\n",
       "      <td>45.0</td>\n",
       "      <td>125000.0</td>\n",
       "      <td>0.0</td>\n",
       "      <td>0.0</td>\n",
       "      <td>1.0</td>\n",
       "      <td>0.0</td>\n",
       "      <td>...</td>\n",
       "      <td>0.0</td>\n",
       "      <td>0.0</td>\n",
       "      <td>0.0</td>\n",
       "      <td>0.0</td>\n",
       "      <td>0.0</td>\n",
       "      <td>0.0</td>\n",
       "      <td>0.0</td>\n",
       "      <td>0.0</td>\n",
       "      <td>0.0</td>\n",
       "      <td>0.0</td>\n",
       "    </tr>\n",
       "    <tr>\n",
       "      <th>2</th>\n",
       "      <td>2.0</td>\n",
       "      <td>1.0</td>\n",
       "      <td>1.0</td>\n",
       "      <td>85.0</td>\n",
       "      <td>50.0</td>\n",
       "      <td>295000.0</td>\n",
       "      <td>0.0</td>\n",
       "      <td>0.0</td>\n",
       "      <td>1.0</td>\n",
       "      <td>0.0</td>\n",
       "      <td>...</td>\n",
       "      <td>0.0</td>\n",
       "      <td>0.0</td>\n",
       "      <td>0.0</td>\n",
       "      <td>0.0</td>\n",
       "      <td>0.0</td>\n",
       "      <td>0.0</td>\n",
       "      <td>0.0</td>\n",
       "      <td>0.0</td>\n",
       "      <td>0.0</td>\n",
       "      <td>0.0</td>\n",
       "    </tr>\n",
       "    <tr>\n",
       "      <th>3</th>\n",
       "      <td>2.0</td>\n",
       "      <td>1.0</td>\n",
       "      <td>1.0</td>\n",
       "      <td>56.0</td>\n",
       "      <td>56.0</td>\n",
       "      <td>150000.0</td>\n",
       "      <td>0.0</td>\n",
       "      <td>0.0</td>\n",
       "      <td>1.0</td>\n",
       "      <td>0.0</td>\n",
       "      <td>...</td>\n",
       "      <td>0.0</td>\n",
       "      <td>0.0</td>\n",
       "      <td>0.0</td>\n",
       "      <td>0.0</td>\n",
       "      <td>0.0</td>\n",
       "      <td>0.0</td>\n",
       "      <td>0.0</td>\n",
       "      <td>0.0</td>\n",
       "      <td>0.0</td>\n",
       "      <td>0.0</td>\n",
       "    </tr>\n",
       "    <tr>\n",
       "      <th>4</th>\n",
       "      <td>2.0</td>\n",
       "      <td>1.0</td>\n",
       "      <td>1.0</td>\n",
       "      <td>70.0</td>\n",
       "      <td>70.0</td>\n",
       "      <td>159500.0</td>\n",
       "      <td>0.0</td>\n",
       "      <td>0.0</td>\n",
       "      <td>1.0</td>\n",
       "      <td>0.0</td>\n",
       "      <td>...</td>\n",
       "      <td>0.0</td>\n",
       "      <td>0.0</td>\n",
       "      <td>0.0</td>\n",
       "      <td>0.0</td>\n",
       "      <td>0.0</td>\n",
       "      <td>0.0</td>\n",
       "      <td>0.0</td>\n",
       "      <td>0.0</td>\n",
       "      <td>0.0</td>\n",
       "      <td>0.0</td>\n",
       "    </tr>\n",
       "  </tbody>\n",
       "</table>\n",
       "<p>5 rows × 66 columns</p>\n",
       "</div>"
      ],
      "text/plain": [
       "   rooms  bedrooms  bathrooms  surface_total  surface_covered     price  Casa  \\\n",
       "0    2.0       1.0        2.0           70.0             58.0  159000.0   0.0   \n",
       "1    2.0       1.0        1.0           45.0             45.0  125000.0   0.0   \n",
       "2    2.0       1.0        1.0           85.0             50.0  295000.0   0.0   \n",
       "3    2.0       1.0        1.0           56.0             56.0  150000.0   0.0   \n",
       "4    2.0       1.0        1.0           70.0             70.0  159500.0   0.0   \n",
       "\n",
       "   Departamento   PH   b1  ...  b48  b49  b50  b51  b52  b53  b54  b55  b56  \\\n",
       "0           0.0  1.0  0.0  ...  0.0  0.0  0.0  0.0  0.0  0.0  0.0  0.0  0.0   \n",
       "1           0.0  1.0  0.0  ...  0.0  0.0  0.0  0.0  0.0  0.0  0.0  0.0  0.0   \n",
       "2           0.0  1.0  0.0  ...  0.0  0.0  0.0  0.0  0.0  0.0  0.0  0.0  0.0   \n",
       "3           0.0  1.0  0.0  ...  0.0  0.0  0.0  0.0  0.0  0.0  0.0  0.0  0.0   \n",
       "4           0.0  1.0  0.0  ...  0.0  0.0  0.0  0.0  0.0  0.0  0.0  0.0  0.0   \n",
       "\n",
       "   b57  \n",
       "0  0.0  \n",
       "1  0.0  \n",
       "2  0.0  \n",
       "3  0.0  \n",
       "4  0.0  \n",
       "\n",
       "[5 rows x 66 columns]"
      ]
     },
     "execution_count": 66,
     "metadata": {},
     "output_type": "execute_result"
    }
   ],
   "source": [
    "# Nombres columnas\n",
    "df_end = df_enc.drop(['l3', 'property_type', 'property_type_category','l3_category'], axis = 1) \n",
    "df_end.head()"
   ]
  },
  {
   "cell_type": "code",
   "execution_count": 67,
   "metadata": {},
   "outputs": [
    {
     "name": "stdout",
     "output_type": "stream",
     "text": [
      "Index(['rooms', 'bedrooms', 'bathrooms', 'surface_total', 'surface_covered',\n",
      "       'price', 'Casa', 'Departamento', 'PH', 'b1', 'b2', 'b3', 'b4', 'b5',\n",
      "       'b6', 'b7', 'b8', 'b9', 'b10', 'b11', 'b12', 'b13', 'b14', 'b15', 'b16',\n",
      "       'b17', 'b18', 'b19', 'b20', 'b21', 'b22', 'b23', 'b24', 'b25', 'b26',\n",
      "       'b27', 'b28', 'b29', 'b30', 'b31', 'b32', 'b33', 'b34', 'b35', 'b36',\n",
      "       'b37', 'b38', 'b39', 'b40', 'b41', 'b42', 'b43', 'b44', 'b45', 'b46',\n",
      "       'b47', 'b48', 'b49', 'b50', 'b51', 'b52', 'b53', 'b54', 'b55', 'b56',\n",
      "       'b57'],\n",
      "      dtype='object')\n"
     ]
    }
   ],
   "source": [
    "# Nombres columnas\n",
    "print(df_end.columns)"
   ]
  },
  {
   "cell_type": "code",
   "execution_count": 68,
   "metadata": {},
   "outputs": [
    {
     "data": {
      "text/plain": [
       "rooms              0\n",
       "bedrooms           0\n",
       "bathrooms          0\n",
       "surface_total      0\n",
       "surface_covered    0\n",
       "                  ..\n",
       "b53                0\n",
       "b54                0\n",
       "b55                0\n",
       "b56                0\n",
       "b57                0\n",
       "Length: 66, dtype: int64"
      ]
     },
     "execution_count": 68,
     "metadata": {},
     "output_type": "execute_result"
    }
   ],
   "source": [
    "df_end.isna().sum()"
   ]
  },
  {
   "cell_type": "markdown",
   "metadata": {},
   "source": [
    "<font color=blue>\n",
    "Evaluando modelo con árbol de decisión\n",
    "</font>"
   ]
  },
  {
   "cell_type": "code",
   "execution_count": 69,
   "metadata": {},
   "outputs": [
    {
     "name": "stdout",
     "output_type": "stream",
     "text": [
      "(70252, 66)\n"
     ]
    }
   ],
   "source": [
    "print(df_end.shape)"
   ]
  },
  {
   "cell_type": "markdown",
   "metadata": {},
   "source": [
    "<font color=green>\n",
    "Checkpoint. Tamaño de dataset 70252 filas y 66 columnas\n",
    "</font>"
   ]
  },
  {
   "cell_type": "code",
   "execution_count": 70,
   "metadata": {},
   "outputs": [
    {
     "data": {
      "text/html": [
       "<div>\n",
       "<style scoped>\n",
       "    .dataframe tbody tr th:only-of-type {\n",
       "        vertical-align: middle;\n",
       "    }\n",
       "\n",
       "    .dataframe tbody tr th {\n",
       "        vertical-align: top;\n",
       "    }\n",
       "\n",
       "    .dataframe thead th {\n",
       "        text-align: right;\n",
       "    }\n",
       "</style>\n",
       "<table border=\"1\" class=\"dataframe\">\n",
       "  <thead>\n",
       "    <tr style=\"text-align: right;\">\n",
       "      <th></th>\n",
       "      <th>rooms</th>\n",
       "      <th>bedrooms</th>\n",
       "      <th>bathrooms</th>\n",
       "      <th>surface_total</th>\n",
       "      <th>surface_covered</th>\n",
       "      <th>price</th>\n",
       "      <th>Casa</th>\n",
       "      <th>Departamento</th>\n",
       "      <th>PH</th>\n",
       "      <th>b1</th>\n",
       "      <th>...</th>\n",
       "      <th>b48</th>\n",
       "      <th>b49</th>\n",
       "      <th>b50</th>\n",
       "      <th>b51</th>\n",
       "      <th>b52</th>\n",
       "      <th>b53</th>\n",
       "      <th>b54</th>\n",
       "      <th>b55</th>\n",
       "      <th>b56</th>\n",
       "      <th>b57</th>\n",
       "    </tr>\n",
       "  </thead>\n",
       "  <tbody>\n",
       "    <tr>\n",
       "      <th>0</th>\n",
       "      <td>2.0</td>\n",
       "      <td>1.0</td>\n",
       "      <td>2.0</td>\n",
       "      <td>70.0</td>\n",
       "      <td>58.0</td>\n",
       "      <td>159000.0</td>\n",
       "      <td>0.0</td>\n",
       "      <td>0.0</td>\n",
       "      <td>1.0</td>\n",
       "      <td>0.0</td>\n",
       "      <td>...</td>\n",
       "      <td>0.0</td>\n",
       "      <td>0.0</td>\n",
       "      <td>0.0</td>\n",
       "      <td>0.0</td>\n",
       "      <td>0.0</td>\n",
       "      <td>0.0</td>\n",
       "      <td>0.0</td>\n",
       "      <td>0.0</td>\n",
       "      <td>0.0</td>\n",
       "      <td>0.0</td>\n",
       "    </tr>\n",
       "    <tr>\n",
       "      <th>1</th>\n",
       "      <td>2.0</td>\n",
       "      <td>1.0</td>\n",
       "      <td>1.0</td>\n",
       "      <td>45.0</td>\n",
       "      <td>45.0</td>\n",
       "      <td>125000.0</td>\n",
       "      <td>0.0</td>\n",
       "      <td>0.0</td>\n",
       "      <td>1.0</td>\n",
       "      <td>0.0</td>\n",
       "      <td>...</td>\n",
       "      <td>0.0</td>\n",
       "      <td>0.0</td>\n",
       "      <td>0.0</td>\n",
       "      <td>0.0</td>\n",
       "      <td>0.0</td>\n",
       "      <td>0.0</td>\n",
       "      <td>0.0</td>\n",
       "      <td>0.0</td>\n",
       "      <td>0.0</td>\n",
       "      <td>0.0</td>\n",
       "    </tr>\n",
       "    <tr>\n",
       "      <th>2</th>\n",
       "      <td>2.0</td>\n",
       "      <td>1.0</td>\n",
       "      <td>1.0</td>\n",
       "      <td>85.0</td>\n",
       "      <td>50.0</td>\n",
       "      <td>295000.0</td>\n",
       "      <td>0.0</td>\n",
       "      <td>0.0</td>\n",
       "      <td>1.0</td>\n",
       "      <td>0.0</td>\n",
       "      <td>...</td>\n",
       "      <td>0.0</td>\n",
       "      <td>0.0</td>\n",
       "      <td>0.0</td>\n",
       "      <td>0.0</td>\n",
       "      <td>0.0</td>\n",
       "      <td>0.0</td>\n",
       "      <td>0.0</td>\n",
       "      <td>0.0</td>\n",
       "      <td>0.0</td>\n",
       "      <td>0.0</td>\n",
       "    </tr>\n",
       "    <tr>\n",
       "      <th>3</th>\n",
       "      <td>2.0</td>\n",
       "      <td>1.0</td>\n",
       "      <td>1.0</td>\n",
       "      <td>56.0</td>\n",
       "      <td>56.0</td>\n",
       "      <td>150000.0</td>\n",
       "      <td>0.0</td>\n",
       "      <td>0.0</td>\n",
       "      <td>1.0</td>\n",
       "      <td>0.0</td>\n",
       "      <td>...</td>\n",
       "      <td>0.0</td>\n",
       "      <td>0.0</td>\n",
       "      <td>0.0</td>\n",
       "      <td>0.0</td>\n",
       "      <td>0.0</td>\n",
       "      <td>0.0</td>\n",
       "      <td>0.0</td>\n",
       "      <td>0.0</td>\n",
       "      <td>0.0</td>\n",
       "      <td>0.0</td>\n",
       "    </tr>\n",
       "    <tr>\n",
       "      <th>4</th>\n",
       "      <td>2.0</td>\n",
       "      <td>1.0</td>\n",
       "      <td>1.0</td>\n",
       "      <td>70.0</td>\n",
       "      <td>70.0</td>\n",
       "      <td>159500.0</td>\n",
       "      <td>0.0</td>\n",
       "      <td>0.0</td>\n",
       "      <td>1.0</td>\n",
       "      <td>0.0</td>\n",
       "      <td>...</td>\n",
       "      <td>0.0</td>\n",
       "      <td>0.0</td>\n",
       "      <td>0.0</td>\n",
       "      <td>0.0</td>\n",
       "      <td>0.0</td>\n",
       "      <td>0.0</td>\n",
       "      <td>0.0</td>\n",
       "      <td>0.0</td>\n",
       "      <td>0.0</td>\n",
       "      <td>0.0</td>\n",
       "    </tr>\n",
       "  </tbody>\n",
       "</table>\n",
       "<p>5 rows × 66 columns</p>\n",
       "</div>"
      ],
      "text/plain": [
       "   rooms  bedrooms  bathrooms  surface_total  surface_covered     price  Casa  \\\n",
       "0    2.0       1.0        2.0           70.0             58.0  159000.0   0.0   \n",
       "1    2.0       1.0        1.0           45.0             45.0  125000.0   0.0   \n",
       "2    2.0       1.0        1.0           85.0             50.0  295000.0   0.0   \n",
       "3    2.0       1.0        1.0           56.0             56.0  150000.0   0.0   \n",
       "4    2.0       1.0        1.0           70.0             70.0  159500.0   0.0   \n",
       "\n",
       "   Departamento   PH   b1  ...  b48  b49  b50  b51  b52  b53  b54  b55  b56  \\\n",
       "0           0.0  1.0  0.0  ...  0.0  0.0  0.0  0.0  0.0  0.0  0.0  0.0  0.0   \n",
       "1           0.0  1.0  0.0  ...  0.0  0.0  0.0  0.0  0.0  0.0  0.0  0.0  0.0   \n",
       "2           0.0  1.0  0.0  ...  0.0  0.0  0.0  0.0  0.0  0.0  0.0  0.0  0.0   \n",
       "3           0.0  1.0  0.0  ...  0.0  0.0  0.0  0.0  0.0  0.0  0.0  0.0  0.0   \n",
       "4           0.0  1.0  0.0  ...  0.0  0.0  0.0  0.0  0.0  0.0  0.0  0.0  0.0   \n",
       "\n",
       "   b57  \n",
       "0  0.0  \n",
       "1  0.0  \n",
       "2  0.0  \n",
       "3  0.0  \n",
       "4  0.0  \n",
       "\n",
       "[5 rows x 66 columns]"
      ]
     },
     "execution_count": 70,
     "metadata": {},
     "output_type": "execute_result"
    }
   ],
   "source": [
    "df_end.head()"
   ]
  },
  {
   "cell_type": "code",
   "execution_count": 71,
   "metadata": {},
   "outputs": [],
   "source": [
    "train_dataset = df_end.sample(frac=0.8, random_state=0)\n",
    "test_dataset = df_end.drop(train_dataset.index)"
   ]
  },
  {
   "cell_type": "code",
   "execution_count": 72,
   "metadata": {},
   "outputs": [],
   "source": [
    "train_labels = train_dataset.pop('price')\n",
    "test_labels = test_dataset.pop('price')"
   ]
  },
  {
   "cell_type": "code",
   "execution_count": 73,
   "metadata": {},
   "outputs": [
    {
     "data": {
      "text/html": [
       "<div>\n",
       "<style scoped>\n",
       "    .dataframe tbody tr th:only-of-type {\n",
       "        vertical-align: middle;\n",
       "    }\n",
       "\n",
       "    .dataframe tbody tr th {\n",
       "        vertical-align: top;\n",
       "    }\n",
       "\n",
       "    .dataframe thead th {\n",
       "        text-align: right;\n",
       "    }\n",
       "</style>\n",
       "<table border=\"1\" class=\"dataframe\">\n",
       "  <thead>\n",
       "    <tr style=\"text-align: right;\">\n",
       "      <th></th>\n",
       "      <th>count</th>\n",
       "      <th>mean</th>\n",
       "      <th>std</th>\n",
       "      <th>min</th>\n",
       "      <th>25%</th>\n",
       "      <th>50%</th>\n",
       "      <th>75%</th>\n",
       "      <th>max</th>\n",
       "    </tr>\n",
       "  </thead>\n",
       "  <tbody>\n",
       "    <tr>\n",
       "      <th>rooms</th>\n",
       "      <td>56202.0</td>\n",
       "      <td>2.733977</td>\n",
       "      <td>1.003115</td>\n",
       "      <td>1.0</td>\n",
       "      <td>2.0</td>\n",
       "      <td>3.0</td>\n",
       "      <td>3.0</td>\n",
       "      <td>6.0</td>\n",
       "    </tr>\n",
       "    <tr>\n",
       "      <th>bedrooms</th>\n",
       "      <td>56202.0</td>\n",
       "      <td>1.791894</td>\n",
       "      <td>0.842227</td>\n",
       "      <td>0.0</td>\n",
       "      <td>1.0</td>\n",
       "      <td>2.0</td>\n",
       "      <td>2.0</td>\n",
       "      <td>5.0</td>\n",
       "    </tr>\n",
       "    <tr>\n",
       "      <th>bathrooms</th>\n",
       "      <td>56202.0</td>\n",
       "      <td>1.346233</td>\n",
       "      <td>0.566523</td>\n",
       "      <td>1.0</td>\n",
       "      <td>1.0</td>\n",
       "      <td>1.0</td>\n",
       "      <td>2.0</td>\n",
       "      <td>3.0</td>\n",
       "    </tr>\n",
       "    <tr>\n",
       "      <th>surface_total</th>\n",
       "      <td>56202.0</td>\n",
       "      <td>73.238538</td>\n",
       "      <td>34.902309</td>\n",
       "      <td>15.0</td>\n",
       "      <td>47.0</td>\n",
       "      <td>65.0</td>\n",
       "      <td>90.0</td>\n",
       "      <td>201.0</td>\n",
       "    </tr>\n",
       "    <tr>\n",
       "      <th>surface_covered</th>\n",
       "      <td>56202.0</td>\n",
       "      <td>64.351067</td>\n",
       "      <td>28.898732</td>\n",
       "      <td>2.0</td>\n",
       "      <td>42.0</td>\n",
       "      <td>57.0</td>\n",
       "      <td>80.0</td>\n",
       "      <td>173.0</td>\n",
       "    </tr>\n",
       "    <tr>\n",
       "      <th>...</th>\n",
       "      <td>...</td>\n",
       "      <td>...</td>\n",
       "      <td>...</td>\n",
       "      <td>...</td>\n",
       "      <td>...</td>\n",
       "      <td>...</td>\n",
       "      <td>...</td>\n",
       "      <td>...</td>\n",
       "    </tr>\n",
       "    <tr>\n",
       "      <th>b53</th>\n",
       "      <td>56202.0</td>\n",
       "      <td>0.000356</td>\n",
       "      <td>0.018861</td>\n",
       "      <td>0.0</td>\n",
       "      <td>0.0</td>\n",
       "      <td>0.0</td>\n",
       "      <td>0.0</td>\n",
       "      <td>1.0</td>\n",
       "    </tr>\n",
       "    <tr>\n",
       "      <th>b54</th>\n",
       "      <td>56202.0</td>\n",
       "      <td>0.004092</td>\n",
       "      <td>0.063841</td>\n",
       "      <td>0.0</td>\n",
       "      <td>0.0</td>\n",
       "      <td>0.0</td>\n",
       "      <td>0.0</td>\n",
       "      <td>1.0</td>\n",
       "    </tr>\n",
       "    <tr>\n",
       "      <th>b55</th>\n",
       "      <td>56202.0</td>\n",
       "      <td>0.000623</td>\n",
       "      <td>0.024947</td>\n",
       "      <td>0.0</td>\n",
       "      <td>0.0</td>\n",
       "      <td>0.0</td>\n",
       "      <td>0.0</td>\n",
       "      <td>1.0</td>\n",
       "    </tr>\n",
       "    <tr>\n",
       "      <th>b56</th>\n",
       "      <td>56202.0</td>\n",
       "      <td>0.039322</td>\n",
       "      <td>0.194363</td>\n",
       "      <td>0.0</td>\n",
       "      <td>0.0</td>\n",
       "      <td>0.0</td>\n",
       "      <td>0.0</td>\n",
       "      <td>1.0</td>\n",
       "    </tr>\n",
       "    <tr>\n",
       "      <th>b57</th>\n",
       "      <td>56202.0</td>\n",
       "      <td>0.016334</td>\n",
       "      <td>0.126757</td>\n",
       "      <td>0.0</td>\n",
       "      <td>0.0</td>\n",
       "      <td>0.0</td>\n",
       "      <td>0.0</td>\n",
       "      <td>1.0</td>\n",
       "    </tr>\n",
       "  </tbody>\n",
       "</table>\n",
       "<p>65 rows × 8 columns</p>\n",
       "</div>"
      ],
      "text/plain": [
       "                   count       mean        std   min   25%   50%   75%    max\n",
       "rooms            56202.0   2.733977   1.003115   1.0   2.0   3.0   3.0    6.0\n",
       "bedrooms         56202.0   1.791894   0.842227   0.0   1.0   2.0   2.0    5.0\n",
       "bathrooms        56202.0   1.346233   0.566523   1.0   1.0   1.0   2.0    3.0\n",
       "surface_total    56202.0  73.238538  34.902309  15.0  47.0  65.0  90.0  201.0\n",
       "surface_covered  56202.0  64.351067  28.898732   2.0  42.0  57.0  80.0  173.0\n",
       "...                  ...        ...        ...   ...   ...   ...   ...    ...\n",
       "b53              56202.0   0.000356   0.018861   0.0   0.0   0.0   0.0    1.0\n",
       "b54              56202.0   0.004092   0.063841   0.0   0.0   0.0   0.0    1.0\n",
       "b55              56202.0   0.000623   0.024947   0.0   0.0   0.0   0.0    1.0\n",
       "b56              56202.0   0.039322   0.194363   0.0   0.0   0.0   0.0    1.0\n",
       "b57              56202.0   0.016334   0.126757   0.0   0.0   0.0   0.0    1.0\n",
       "\n",
       "[65 rows x 8 columns]"
      ]
     },
     "execution_count": 73,
     "metadata": {},
     "output_type": "execute_result"
    }
   ],
   "source": [
    "train_stats = train_dataset.describe()\n",
    "train_stats = train_stats.transpose()\n",
    "train_stats"
   ]
  },
  {
   "cell_type": "code",
   "execution_count": 74,
   "metadata": {},
   "outputs": [
    {
     "data": {
      "text/html": [
       "<div>\n",
       "<style scoped>\n",
       "    .dataframe tbody tr th:only-of-type {\n",
       "        vertical-align: middle;\n",
       "    }\n",
       "\n",
       "    .dataframe tbody tr th {\n",
       "        vertical-align: top;\n",
       "    }\n",
       "\n",
       "    .dataframe thead th {\n",
       "        text-align: right;\n",
       "    }\n",
       "</style>\n",
       "<table border=\"1\" class=\"dataframe\">\n",
       "  <thead>\n",
       "    <tr style=\"text-align: right;\">\n",
       "      <th></th>\n",
       "      <th>rooms</th>\n",
       "      <th>bedrooms</th>\n",
       "      <th>bathrooms</th>\n",
       "      <th>surface_total</th>\n",
       "      <th>surface_covered</th>\n",
       "      <th>Casa</th>\n",
       "      <th>Departamento</th>\n",
       "      <th>PH</th>\n",
       "      <th>b1</th>\n",
       "      <th>b2</th>\n",
       "      <th>...</th>\n",
       "      <th>b48</th>\n",
       "      <th>b49</th>\n",
       "      <th>b50</th>\n",
       "      <th>b51</th>\n",
       "      <th>b52</th>\n",
       "      <th>b53</th>\n",
       "      <th>b54</th>\n",
       "      <th>b55</th>\n",
       "      <th>b56</th>\n",
       "      <th>b57</th>\n",
       "    </tr>\n",
       "  </thead>\n",
       "  <tbody>\n",
       "    <tr>\n",
       "      <th>30699</th>\n",
       "      <td>-0.731698</td>\n",
       "      <td>-0.940237</td>\n",
       "      <td>-0.611154</td>\n",
       "      <td>-0.694468</td>\n",
       "      <td>-0.773427</td>\n",
       "      <td>-0.105183</td>\n",
       "      <td>0.372863</td>\n",
       "      <td>-0.353561</td>\n",
       "      <td>-0.074594</td>\n",
       "      <td>-0.044685</td>\n",
       "      <td>...</td>\n",
       "      <td>-0.073501</td>\n",
       "      <td>-0.081848</td>\n",
       "      <td>-0.055405</td>\n",
       "      <td>-0.093298</td>\n",
       "      <td>-0.041794</td>\n",
       "      <td>-0.018867</td>\n",
       "      <td>-0.064102</td>\n",
       "      <td>-0.024963</td>\n",
       "      <td>-0.202315</td>\n",
       "      <td>-0.12886</td>\n",
       "    </tr>\n",
       "    <tr>\n",
       "      <th>22587</th>\n",
       "      <td>0.265196</td>\n",
       "      <td>0.247091</td>\n",
       "      <td>1.153998</td>\n",
       "      <td>0.021817</td>\n",
       "      <td>-0.081355</td>\n",
       "      <td>-0.105183</td>\n",
       "      <td>0.372863</td>\n",
       "      <td>-0.353561</td>\n",
       "      <td>-0.074594</td>\n",
       "      <td>-0.044685</td>\n",
       "      <td>...</td>\n",
       "      <td>-0.073501</td>\n",
       "      <td>-0.081848</td>\n",
       "      <td>-0.055405</td>\n",
       "      <td>-0.093298</td>\n",
       "      <td>-0.041794</td>\n",
       "      <td>-0.018867</td>\n",
       "      <td>-0.064102</td>\n",
       "      <td>-0.024963</td>\n",
       "      <td>-0.202315</td>\n",
       "      <td>-0.12886</td>\n",
       "    </tr>\n",
       "    <tr>\n",
       "      <th>61253</th>\n",
       "      <td>-1.728593</td>\n",
       "      <td>-0.940237</td>\n",
       "      <td>-0.611154</td>\n",
       "      <td>-0.923679</td>\n",
       "      <td>-0.946445</td>\n",
       "      <td>-0.105183</td>\n",
       "      <td>0.372863</td>\n",
       "      <td>-0.353561</td>\n",
       "      <td>-0.074594</td>\n",
       "      <td>-0.044685</td>\n",
       "      <td>...</td>\n",
       "      <td>-0.073501</td>\n",
       "      <td>-0.081848</td>\n",
       "      <td>-0.055405</td>\n",
       "      <td>-0.093298</td>\n",
       "      <td>-0.041794</td>\n",
       "      <td>-0.018867</td>\n",
       "      <td>-0.064102</td>\n",
       "      <td>-0.024963</td>\n",
       "      <td>-0.202315</td>\n",
       "      <td>-0.12886</td>\n",
       "    </tr>\n",
       "    <tr>\n",
       "      <th>44280</th>\n",
       "      <td>3.255880</td>\n",
       "      <td>1.434419</td>\n",
       "      <td>1.153998</td>\n",
       "      <td>2.485837</td>\n",
       "      <td>3.136779</td>\n",
       "      <td>-0.105183</td>\n",
       "      <td>0.372863</td>\n",
       "      <td>-0.353561</td>\n",
       "      <td>-0.074594</td>\n",
       "      <td>-0.044685</td>\n",
       "      <td>...</td>\n",
       "      <td>-0.073501</td>\n",
       "      <td>-0.081848</td>\n",
       "      <td>-0.055405</td>\n",
       "      <td>-0.093298</td>\n",
       "      <td>-0.041794</td>\n",
       "      <td>-0.018867</td>\n",
       "      <td>-0.064102</td>\n",
       "      <td>-0.024963</td>\n",
       "      <td>-0.202315</td>\n",
       "      <td>-0.12886</td>\n",
       "    </tr>\n",
       "    <tr>\n",
       "      <th>43195</th>\n",
       "      <td>-0.731698</td>\n",
       "      <td>-0.940237</td>\n",
       "      <td>-0.611154</td>\n",
       "      <td>-1.095588</td>\n",
       "      <td>-1.015652</td>\n",
       "      <td>-0.105183</td>\n",
       "      <td>0.372863</td>\n",
       "      <td>-0.353561</td>\n",
       "      <td>-0.074594</td>\n",
       "      <td>-0.044685</td>\n",
       "      <td>...</td>\n",
       "      <td>-0.073501</td>\n",
       "      <td>-0.081848</td>\n",
       "      <td>-0.055405</td>\n",
       "      <td>-0.093298</td>\n",
       "      <td>-0.041794</td>\n",
       "      <td>-0.018867</td>\n",
       "      <td>-0.064102</td>\n",
       "      <td>-0.024963</td>\n",
       "      <td>-0.202315</td>\n",
       "      <td>-0.12886</td>\n",
       "    </tr>\n",
       "  </tbody>\n",
       "</table>\n",
       "<p>5 rows × 65 columns</p>\n",
       "</div>"
      ],
      "text/plain": [
       "          rooms  bedrooms  bathrooms  surface_total  surface_covered  \\\n",
       "30699 -0.731698 -0.940237  -0.611154      -0.694468        -0.773427   \n",
       "22587  0.265196  0.247091   1.153998       0.021817        -0.081355   \n",
       "61253 -1.728593 -0.940237  -0.611154      -0.923679        -0.946445   \n",
       "44280  3.255880  1.434419   1.153998       2.485837         3.136779   \n",
       "43195 -0.731698 -0.940237  -0.611154      -1.095588        -1.015652   \n",
       "\n",
       "           Casa  Departamento        PH        b1        b2  ...       b48  \\\n",
       "30699 -0.105183      0.372863 -0.353561 -0.074594 -0.044685  ... -0.073501   \n",
       "22587 -0.105183      0.372863 -0.353561 -0.074594 -0.044685  ... -0.073501   \n",
       "61253 -0.105183      0.372863 -0.353561 -0.074594 -0.044685  ... -0.073501   \n",
       "44280 -0.105183      0.372863 -0.353561 -0.074594 -0.044685  ... -0.073501   \n",
       "43195 -0.105183      0.372863 -0.353561 -0.074594 -0.044685  ... -0.073501   \n",
       "\n",
       "            b49       b50       b51       b52       b53       b54       b55  \\\n",
       "30699 -0.081848 -0.055405 -0.093298 -0.041794 -0.018867 -0.064102 -0.024963   \n",
       "22587 -0.081848 -0.055405 -0.093298 -0.041794 -0.018867 -0.064102 -0.024963   \n",
       "61253 -0.081848 -0.055405 -0.093298 -0.041794 -0.018867 -0.064102 -0.024963   \n",
       "44280 -0.081848 -0.055405 -0.093298 -0.041794 -0.018867 -0.064102 -0.024963   \n",
       "43195 -0.081848 -0.055405 -0.093298 -0.041794 -0.018867 -0.064102 -0.024963   \n",
       "\n",
       "            b56      b57  \n",
       "30699 -0.202315 -0.12886  \n",
       "22587 -0.202315 -0.12886  \n",
       "61253 -0.202315 -0.12886  \n",
       "44280 -0.202315 -0.12886  \n",
       "43195 -0.202315 -0.12886  \n",
       "\n",
       "[5 rows x 65 columns]"
      ]
     },
     "execution_count": 74,
     "metadata": {},
     "output_type": "execute_result"
    }
   ],
   "source": [
    "def norm(x):\n",
    "  return (x - train_stats['mean']) / train_stats['std']\n",
    "  \n",
    "normed_train_data = norm(train_dataset)\n",
    "normed_test_data = norm(test_dataset)\n",
    "\n",
    "normed_train_data.head()"
   ]
  },
  {
   "cell_type": "code",
   "execution_count": 75,
   "metadata": {},
   "outputs": [],
   "source": [
    "def build_model():\n",
    "  model = tf.keras.Sequential([\n",
    "    tf.keras.layers.Dense(256, activation='relu', input_shape=[len(train_dataset.keys())]),\n",
    "    tf.keras.layers.Dense(256, activation='relu'),\n",
    "    tf.keras.layers.Dense(256, activation='relu'),\n",
    "    tf.keras.layers.Dense(128, activation='relu'),\n",
    "    tf.keras.layers.Dense(128, activation='relu'),\n",
    "    tf.keras.layers.Dense(128, activation='relu'),\n",
    "    tf.keras.layers.Dense(64, activation='relu'),\n",
    "    tf.keras.layers.Dense(64, activation='relu'),\n",
    "    tf.keras.layers.Dense(1)\n",
    "  ])\n",
    "\n",
    "  optimizer = tf.keras.optimizers.RMSprop(0.001)\n",
    "\n",
    "  model.compile(loss='mse',\n",
    "                optimizer=optimizer,\n",
    "                metrics=['mae', 'mse'])\n",
    "  return model"
   ]
  },
  {
   "cell_type": "code",
   "execution_count": 76,
   "metadata": {},
   "outputs": [],
   "source": [
    "import tensorflow as tf"
   ]
  },
  {
   "cell_type": "code",
   "execution_count": 77,
   "metadata": {},
   "outputs": [],
   "source": [
    "from tensorflow import keras\n",
    "from tensorflow.keras import layers"
   ]
  },
  {
   "cell_type": "code",
   "execution_count": 78,
   "metadata": {},
   "outputs": [
    {
     "name": "stdout",
     "output_type": "stream",
     "text": [
      "Model: \"sequential\"\n",
      "_________________________________________________________________\n",
      "Layer (type)                 Output Shape              Param #   \n",
      "=================================================================\n",
      "dense (Dense)                (None, 256)               16896     \n",
      "_________________________________________________________________\n",
      "dense_1 (Dense)              (None, 256)               65792     \n",
      "_________________________________________________________________\n",
      "dense_2 (Dense)              (None, 256)               65792     \n",
      "_________________________________________________________________\n",
      "dense_3 (Dense)              (None, 128)               32896     \n",
      "_________________________________________________________________\n",
      "dense_4 (Dense)              (None, 128)               16512     \n",
      "_________________________________________________________________\n",
      "dense_5 (Dense)              (None, 128)               16512     \n",
      "_________________________________________________________________\n",
      "dense_6 (Dense)              (None, 64)                8256      \n",
      "_________________________________________________________________\n",
      "dense_7 (Dense)              (None, 64)                4160      \n",
      "_________________________________________________________________\n",
      "dense_8 (Dense)              (None, 1)                 65        \n",
      "=================================================================\n",
      "Total params: 226,881\n",
      "Trainable params: 226,881\n",
      "Non-trainable params: 0\n",
      "_________________________________________________________________\n"
     ]
    }
   ],
   "source": [
    "model = build_model()\n",
    "model.summary()"
   ]
  },
  {
   "cell_type": "code",
   "execution_count": 79,
   "metadata": {},
   "outputs": [],
   "source": [
    "import tensorflow_docs as tfdocs\n",
    "import tensorflow_docs.plots\n",
    "import tensorflow_docs.modeling"
   ]
  },
  {
   "cell_type": "code",
   "execution_count": 81,
   "metadata": {},
   "outputs": [
    {
     "name": "stdout",
     "output_type": "stream",
     "text": [
      "WARNING:tensorflow:Falling back from v2 loop because of error: Failed to find data adapter that can handle input: <class 'pandas.core.frame.DataFrame'>, <class 'NoneType'>\n",
      "\n",
      "Epoch: 0, loss:2746458791.0150,  mae:36338.7305,  mse:2746456064.0000,  val_loss:2359675348.9576,  val_mae:34212.8438,  val_mse:2359675904.0000,  \n",
      "....................................................................................................\n",
      "Epoch: 100, loss:1264301803.8738,  mae:24644.3008,  mse:1264302208.0000,  val_loss:1414346904.6298,  val_mae:25852.3398,  val_mse:1414346752.0000,  \n",
      ".................."
     ]
    },
    {
     "ename": "KeyboardInterrupt",
     "evalue": "",
     "output_type": "error",
     "traceback": [
      "\u001b[1;31m---------------------------------------------------------------------------\u001b[0m",
      "\u001b[1;31mKeyboardInterrupt\u001b[0m                         Traceback (most recent call last)",
      "\u001b[1;32m<ipython-input-81-08759990fa53>\u001b[0m in \u001b[0;36m<module>\u001b[1;34m\u001b[0m\n\u001b[0;32m      4\u001b[0m   \u001b[0mnormed_train_data\u001b[0m\u001b[1;33m,\u001b[0m \u001b[0mtrain_labels\u001b[0m\u001b[1;33m,\u001b[0m\u001b[1;33m\u001b[0m\u001b[1;33m\u001b[0m\u001b[0m\n\u001b[0;32m      5\u001b[0m   \u001b[0mepochs\u001b[0m\u001b[1;33m=\u001b[0m\u001b[0mEPOCHS\u001b[0m\u001b[1;33m,\u001b[0m \u001b[0mvalidation_split\u001b[0m \u001b[1;33m=\u001b[0m \u001b[1;36m0.2\u001b[0m\u001b[1;33m,\u001b[0m \u001b[0mverbose\u001b[0m\u001b[1;33m=\u001b[0m\u001b[1;36m0\u001b[0m\u001b[1;33m,\u001b[0m\u001b[1;33m\u001b[0m\u001b[1;33m\u001b[0m\u001b[0m\n\u001b[1;32m----> 6\u001b[1;33m   callbacks=[tfdocs.modeling.EpochDots()])\n\u001b[0m",
      "\u001b[1;32m~\\anaconda3\\lib\\site-packages\\tensorflow_core\\python\\keras\\engine\\training.py\u001b[0m in \u001b[0;36mfit\u001b[1;34m(self, x, y, batch_size, epochs, verbose, callbacks, validation_split, validation_data, shuffle, class_weight, sample_weight, initial_epoch, steps_per_epoch, validation_steps, validation_freq, max_queue_size, workers, use_multiprocessing, **kwargs)\u001b[0m\n\u001b[0;32m    726\u001b[0m         \u001b[0mmax_queue_size\u001b[0m\u001b[1;33m=\u001b[0m\u001b[0mmax_queue_size\u001b[0m\u001b[1;33m,\u001b[0m\u001b[1;33m\u001b[0m\u001b[1;33m\u001b[0m\u001b[0m\n\u001b[0;32m    727\u001b[0m         \u001b[0mworkers\u001b[0m\u001b[1;33m=\u001b[0m\u001b[0mworkers\u001b[0m\u001b[1;33m,\u001b[0m\u001b[1;33m\u001b[0m\u001b[1;33m\u001b[0m\u001b[0m\n\u001b[1;32m--> 728\u001b[1;33m         use_multiprocessing=use_multiprocessing)\n\u001b[0m\u001b[0;32m    729\u001b[0m \u001b[1;33m\u001b[0m\u001b[0m\n\u001b[0;32m    730\u001b[0m   def evaluate(self,\n",
      "\u001b[1;32m~\\anaconda3\\lib\\site-packages\\tensorflow_core\\python\\keras\\engine\\training_arrays.py\u001b[0m in \u001b[0;36mfit\u001b[1;34m(self, model, x, y, batch_size, epochs, verbose, callbacks, validation_split, validation_data, shuffle, class_weight, sample_weight, initial_epoch, steps_per_epoch, validation_steps, validation_freq, **kwargs)\u001b[0m\n\u001b[0;32m    672\u001b[0m         \u001b[0mvalidation_steps\u001b[0m\u001b[1;33m=\u001b[0m\u001b[0mvalidation_steps\u001b[0m\u001b[1;33m,\u001b[0m\u001b[1;33m\u001b[0m\u001b[1;33m\u001b[0m\u001b[0m\n\u001b[0;32m    673\u001b[0m         \u001b[0mvalidation_freq\u001b[0m\u001b[1;33m=\u001b[0m\u001b[0mvalidation_freq\u001b[0m\u001b[1;33m,\u001b[0m\u001b[1;33m\u001b[0m\u001b[1;33m\u001b[0m\u001b[0m\n\u001b[1;32m--> 674\u001b[1;33m         steps_name='steps_per_epoch')\n\u001b[0m\u001b[0;32m    675\u001b[0m \u001b[1;33m\u001b[0m\u001b[0m\n\u001b[0;32m    676\u001b[0m   def evaluate(self,\n",
      "\u001b[1;32m~\\anaconda3\\lib\\site-packages\\tensorflow_core\\python\\keras\\engine\\training_arrays.py\u001b[0m in \u001b[0;36mmodel_iteration\u001b[1;34m(model, inputs, targets, sample_weights, batch_size, epochs, verbose, callbacks, val_inputs, val_targets, val_sample_weights, shuffle, initial_epoch, steps_per_epoch, validation_steps, validation_freq, mode, validation_in_fit, prepared_feed_values_from_dataset, steps_name, **kwargs)\u001b[0m\n\u001b[0;32m    391\u001b[0m \u001b[1;33m\u001b[0m\u001b[0m\n\u001b[0;32m    392\u001b[0m         \u001b[1;31m# Get outputs.\u001b[0m\u001b[1;33m\u001b[0m\u001b[1;33m\u001b[0m\u001b[1;33m\u001b[0m\u001b[0m\n\u001b[1;32m--> 393\u001b[1;33m         \u001b[0mbatch_outs\u001b[0m \u001b[1;33m=\u001b[0m \u001b[0mf\u001b[0m\u001b[1;33m(\u001b[0m\u001b[0mins_batch\u001b[0m\u001b[1;33m)\u001b[0m\u001b[1;33m\u001b[0m\u001b[1;33m\u001b[0m\u001b[0m\n\u001b[0m\u001b[0;32m    394\u001b[0m         \u001b[1;32mif\u001b[0m \u001b[1;32mnot\u001b[0m \u001b[0misinstance\u001b[0m\u001b[1;33m(\u001b[0m\u001b[0mbatch_outs\u001b[0m\u001b[1;33m,\u001b[0m \u001b[0mlist\u001b[0m\u001b[1;33m)\u001b[0m\u001b[1;33m:\u001b[0m\u001b[1;33m\u001b[0m\u001b[1;33m\u001b[0m\u001b[0m\n\u001b[0;32m    395\u001b[0m           \u001b[0mbatch_outs\u001b[0m \u001b[1;33m=\u001b[0m \u001b[1;33m[\u001b[0m\u001b[0mbatch_outs\u001b[0m\u001b[1;33m]\u001b[0m\u001b[1;33m\u001b[0m\u001b[1;33m\u001b[0m\u001b[0m\n",
      "\u001b[1;32m~\\anaconda3\\lib\\site-packages\\tensorflow_core\\python\\keras\\backend.py\u001b[0m in \u001b[0;36m__call__\u001b[1;34m(self, inputs)\u001b[0m\n\u001b[0;32m   3625\u001b[0m         \u001b[0mvalue\u001b[0m \u001b[1;33m=\u001b[0m \u001b[0mmath_ops\u001b[0m\u001b[1;33m.\u001b[0m\u001b[0mcast\u001b[0m\u001b[1;33m(\u001b[0m\u001b[0mvalue\u001b[0m\u001b[1;33m,\u001b[0m \u001b[0mtensor\u001b[0m\u001b[1;33m.\u001b[0m\u001b[0mdtype\u001b[0m\u001b[1;33m)\u001b[0m\u001b[1;33m\u001b[0m\u001b[1;33m\u001b[0m\u001b[0m\n\u001b[0;32m   3626\u001b[0m       \u001b[0mconverted_inputs\u001b[0m\u001b[1;33m.\u001b[0m\u001b[0mappend\u001b[0m\u001b[1;33m(\u001b[0m\u001b[0mvalue\u001b[0m\u001b[1;33m)\u001b[0m\u001b[1;33m\u001b[0m\u001b[1;33m\u001b[0m\u001b[0m\n\u001b[1;32m-> 3627\u001b[1;33m     \u001b[0moutputs\u001b[0m \u001b[1;33m=\u001b[0m \u001b[0mself\u001b[0m\u001b[1;33m.\u001b[0m\u001b[0m_graph_fn\u001b[0m\u001b[1;33m(\u001b[0m\u001b[1;33m*\u001b[0m\u001b[0mconverted_inputs\u001b[0m\u001b[1;33m)\u001b[0m\u001b[1;33m\u001b[0m\u001b[1;33m\u001b[0m\u001b[0m\n\u001b[0m\u001b[0;32m   3628\u001b[0m \u001b[1;33m\u001b[0m\u001b[0m\n\u001b[0;32m   3629\u001b[0m     \u001b[1;31m# EagerTensor.numpy() will often make a copy to ensure memory safety.\u001b[0m\u001b[1;33m\u001b[0m\u001b[1;33m\u001b[0m\u001b[1;33m\u001b[0m\u001b[0m\n",
      "\u001b[1;32m~\\anaconda3\\lib\\site-packages\\tensorflow_core\\python\\eager\\function.py\u001b[0m in \u001b[0;36m__call__\u001b[1;34m(self, *args, **kwargs)\u001b[0m\n\u001b[0;32m   1079\u001b[0m       \u001b[0mTypeError\u001b[0m\u001b[1;33m:\u001b[0m \u001b[0mFor\u001b[0m \u001b[0minvalid\u001b[0m \u001b[0mpositional\u001b[0m\u001b[1;33m/\u001b[0m\u001b[0mkeyword\u001b[0m \u001b[0margument\u001b[0m \u001b[0mcombinations\u001b[0m\u001b[1;33m.\u001b[0m\u001b[1;33m\u001b[0m\u001b[1;33m\u001b[0m\u001b[0m\n\u001b[0;32m   1080\u001b[0m     \"\"\"\n\u001b[1;32m-> 1081\u001b[1;33m     \u001b[1;32mreturn\u001b[0m \u001b[0mself\u001b[0m\u001b[1;33m.\u001b[0m\u001b[0m_call_impl\u001b[0m\u001b[1;33m(\u001b[0m\u001b[0margs\u001b[0m\u001b[1;33m,\u001b[0m \u001b[0mkwargs\u001b[0m\u001b[1;33m)\u001b[0m\u001b[1;33m\u001b[0m\u001b[1;33m\u001b[0m\u001b[0m\n\u001b[0m\u001b[0;32m   1082\u001b[0m \u001b[1;33m\u001b[0m\u001b[0m\n\u001b[0;32m   1083\u001b[0m   \u001b[1;32mdef\u001b[0m \u001b[0m_call_impl\u001b[0m\u001b[1;33m(\u001b[0m\u001b[0mself\u001b[0m\u001b[1;33m,\u001b[0m \u001b[0margs\u001b[0m\u001b[1;33m,\u001b[0m \u001b[0mkwargs\u001b[0m\u001b[1;33m,\u001b[0m \u001b[0mcancellation_manager\u001b[0m\u001b[1;33m=\u001b[0m\u001b[1;32mNone\u001b[0m\u001b[1;33m)\u001b[0m\u001b[1;33m:\u001b[0m\u001b[1;33m\u001b[0m\u001b[1;33m\u001b[0m\u001b[0m\n",
      "\u001b[1;32m~\\anaconda3\\lib\\site-packages\\tensorflow_core\\python\\eager\\function.py\u001b[0m in \u001b[0;36m_call_impl\u001b[1;34m(self, args, kwargs, cancellation_manager)\u001b[0m\n\u001b[0;32m   1119\u001b[0m       raise TypeError(\"Keyword arguments {} unknown. Expected {}.\".format(\n\u001b[0;32m   1120\u001b[0m           list(kwargs.keys()), list(self._arg_keywords)))\n\u001b[1;32m-> 1121\u001b[1;33m     \u001b[1;32mreturn\u001b[0m \u001b[0mself\u001b[0m\u001b[1;33m.\u001b[0m\u001b[0m_call_flat\u001b[0m\u001b[1;33m(\u001b[0m\u001b[0margs\u001b[0m\u001b[1;33m,\u001b[0m \u001b[0mself\u001b[0m\u001b[1;33m.\u001b[0m\u001b[0mcaptured_inputs\u001b[0m\u001b[1;33m,\u001b[0m \u001b[0mcancellation_manager\u001b[0m\u001b[1;33m)\u001b[0m\u001b[1;33m\u001b[0m\u001b[1;33m\u001b[0m\u001b[0m\n\u001b[0m\u001b[0;32m   1122\u001b[0m \u001b[1;33m\u001b[0m\u001b[0m\n\u001b[0;32m   1123\u001b[0m   \u001b[1;32mdef\u001b[0m \u001b[0m_filtered_call\u001b[0m\u001b[1;33m(\u001b[0m\u001b[0mself\u001b[0m\u001b[1;33m,\u001b[0m \u001b[0margs\u001b[0m\u001b[1;33m,\u001b[0m \u001b[0mkwargs\u001b[0m\u001b[1;33m)\u001b[0m\u001b[1;33m:\u001b[0m\u001b[1;33m\u001b[0m\u001b[1;33m\u001b[0m\u001b[0m\n",
      "\u001b[1;32m~\\anaconda3\\lib\\site-packages\\tensorflow_core\\python\\eager\\function.py\u001b[0m in \u001b[0;36m_call_flat\u001b[1;34m(self, args, captured_inputs, cancellation_manager)\u001b[0m\n\u001b[0;32m   1222\u001b[0m     \u001b[1;32mif\u001b[0m \u001b[0mexecuting_eagerly\u001b[0m\u001b[1;33m:\u001b[0m\u001b[1;33m\u001b[0m\u001b[1;33m\u001b[0m\u001b[0m\n\u001b[0;32m   1223\u001b[0m       flat_outputs = forward_function.call(\n\u001b[1;32m-> 1224\u001b[1;33m           ctx, args, cancellation_manager=cancellation_manager)\n\u001b[0m\u001b[0;32m   1225\u001b[0m     \u001b[1;32melse\u001b[0m\u001b[1;33m:\u001b[0m\u001b[1;33m\u001b[0m\u001b[1;33m\u001b[0m\u001b[0m\n\u001b[0;32m   1226\u001b[0m       \u001b[0mgradient_name\u001b[0m \u001b[1;33m=\u001b[0m \u001b[0mself\u001b[0m\u001b[1;33m.\u001b[0m\u001b[0m_delayed_rewrite_functions\u001b[0m\u001b[1;33m.\u001b[0m\u001b[0mregister\u001b[0m\u001b[1;33m(\u001b[0m\u001b[1;33m)\u001b[0m\u001b[1;33m\u001b[0m\u001b[1;33m\u001b[0m\u001b[0m\n",
      "\u001b[1;32m~\\anaconda3\\lib\\site-packages\\tensorflow_core\\python\\eager\\function.py\u001b[0m in \u001b[0;36mcall\u001b[1;34m(self, ctx, args, cancellation_manager)\u001b[0m\n\u001b[0;32m    509\u001b[0m               \u001b[0minputs\u001b[0m\u001b[1;33m=\u001b[0m\u001b[0margs\u001b[0m\u001b[1;33m,\u001b[0m\u001b[1;33m\u001b[0m\u001b[1;33m\u001b[0m\u001b[0m\n\u001b[0;32m    510\u001b[0m               \u001b[0mattrs\u001b[0m\u001b[1;33m=\u001b[0m\u001b[1;33m(\u001b[0m\u001b[1;34m\"executor_type\"\u001b[0m\u001b[1;33m,\u001b[0m \u001b[0mexecutor_type\u001b[0m\u001b[1;33m,\u001b[0m \u001b[1;34m\"config_proto\"\u001b[0m\u001b[1;33m,\u001b[0m \u001b[0mconfig\u001b[0m\u001b[1;33m)\u001b[0m\u001b[1;33m,\u001b[0m\u001b[1;33m\u001b[0m\u001b[1;33m\u001b[0m\u001b[0m\n\u001b[1;32m--> 511\u001b[1;33m               ctx=ctx)\n\u001b[0m\u001b[0;32m    512\u001b[0m         \u001b[1;32melse\u001b[0m\u001b[1;33m:\u001b[0m\u001b[1;33m\u001b[0m\u001b[1;33m\u001b[0m\u001b[0m\n\u001b[0;32m    513\u001b[0m           outputs = execute.execute_with_cancellation(\n",
      "\u001b[1;32m~\\anaconda3\\lib\\site-packages\\tensorflow_core\\python\\eager\\execute.py\u001b[0m in \u001b[0;36mquick_execute\u001b[1;34m(op_name, num_outputs, inputs, attrs, ctx, name)\u001b[0m\n\u001b[0;32m     59\u001b[0m     tensors = pywrap_tensorflow.TFE_Py_Execute(ctx._handle, device_name,\n\u001b[0;32m     60\u001b[0m                                                \u001b[0mop_name\u001b[0m\u001b[1;33m,\u001b[0m \u001b[0minputs\u001b[0m\u001b[1;33m,\u001b[0m \u001b[0mattrs\u001b[0m\u001b[1;33m,\u001b[0m\u001b[1;33m\u001b[0m\u001b[1;33m\u001b[0m\u001b[0m\n\u001b[1;32m---> 61\u001b[1;33m                                                num_outputs)\n\u001b[0m\u001b[0;32m     62\u001b[0m   \u001b[1;32mexcept\u001b[0m \u001b[0mcore\u001b[0m\u001b[1;33m.\u001b[0m\u001b[0m_NotOkStatusException\u001b[0m \u001b[1;32mas\u001b[0m \u001b[0me\u001b[0m\u001b[1;33m:\u001b[0m\u001b[1;33m\u001b[0m\u001b[1;33m\u001b[0m\u001b[0m\n\u001b[0;32m     63\u001b[0m     \u001b[1;32mif\u001b[0m \u001b[0mname\u001b[0m \u001b[1;32mis\u001b[0m \u001b[1;32mnot\u001b[0m \u001b[1;32mNone\u001b[0m\u001b[1;33m:\u001b[0m\u001b[1;33m\u001b[0m\u001b[1;33m\u001b[0m\u001b[0m\n",
      "\u001b[1;31mKeyboardInterrupt\u001b[0m: "
     ]
    }
   ],
   "source": [
    "EPOCHS = 1000\n",
    "\n",
    "history = model.fit(\n",
    "  normed_train_data, train_labels,\n",
    "  epochs=EPOCHS, validation_split = 0.2, verbose=0,\n",
    "  callbacks=[tfdocs.modeling.EpochDots()])"
   ]
  },
  {
   "cell_type": "code",
   "execution_count": null,
   "metadata": {},
   "outputs": [],
   "source": [
    "plotter = tfdocs.plots.HistoryPlotter(smoothing_std=2)"
   ]
  },
  {
   "cell_type": "code",
   "execution_count": null,
   "metadata": {},
   "outputs": [],
   "source": []
  },
  {
   "cell_type": "code",
   "execution_count": null,
   "metadata": {},
   "outputs": [],
   "source": []
  },
  {
   "cell_type": "code",
   "execution_count": null,
   "metadata": {},
   "outputs": [],
   "source": []
  },
  {
   "cell_type": "code",
   "execution_count": null,
   "metadata": {},
   "outputs": [],
   "source": []
  },
  {
   "cell_type": "code",
   "execution_count": null,
   "metadata": {},
   "outputs": [],
   "source": []
  },
  {
   "cell_type": "markdown",
   "metadata": {},
   "source": [
    "<font color=green>\n",
    "Separo las columnas, 'X' es con la que voy a entrenar el modelo \n",
    "</font"
   ]
  },
  {
   "cell_type": "markdown",
   "metadata": {},
   "source": [
    "<font color=green>\n",
    "'y' contiene la variable 'price' o precio para predecir mi modelo\n",
    "</font>"
   ]
  },
  {
   "cell_type": "code",
   "execution_count": null,
   "metadata": {},
   "outputs": [],
   "source": [
    "X = df_end.loc[:,:].drop('price', axis=1)\n",
    "y = df_end.loc[:,['price']]"
   ]
  },
  {
   "cell_type": "markdown",
   "metadata": {},
   "source": [
    "<font color=green>\n",
    "Aquí se usa la función train_test_split de scikit-learn para dividir los datos en conjuntos de entrenamiento y prueba. Para el modelo se asignó un 25% para test.\n",
    "</font>"
   ]
  },
  {
   "cell_type": "code",
   "execution_count": null,
   "metadata": {},
   "outputs": [],
   "source": [
    "from sklearn.model_selection import train_test_split\n",
    "\n",
    "X_train, X_test, y_train, y_test = train_test_split(X, y, test_size=0.25, random_state=42)"
   ]
  },
  {
   "cell_type": "code",
   "execution_count": null,
   "metadata": {},
   "outputs": [],
   "source": [
    "print('Datos de entrenamiento:')\n",
    "print(X_train.shape, y_train.shape)\n",
    "print('Datos de prueba:')\n",
    "print(X_test.shape, y_test.shape)"
   ]
  },
  {
   "cell_type": "markdown",
   "metadata": {},
   "source": [
    "<font color=green>\n",
    "Para las gráficas del modelo 2, se opta por el uso de la función r2_score (el coeficiente de determinación) que proporciona una medida de qué tan bien es probable que el modelo prediga las muestras futuras. También se importa la función de error cuadrático medio (mean_squared_error) que es el promedio del cuadrado de la diferencia entre los valores originales y los valores predichos.\n",
    "</font>"
   ]
  },
  {
   "cell_type": "code",
   "execution_count": null,
   "metadata": {},
   "outputs": [],
   "source": [
    "from sklearn.metrics import mean_squared_error\n",
    "from sklearn.metrics import mean_absolute_error\n",
    "from sklearn.metrics import r2_score"
   ]
  },
  {
   "cell_type": "markdown",
   "metadata": {},
   "source": [
    "#### DecisionTreeRegressor"
   ]
  },
  {
   "cell_type": "code",
   "execution_count": null,
   "metadata": {},
   "outputs": [],
   "source": [
    "from sklearn.tree import DecisionTreeRegressor\n",
    "tree_model = DecisionTreeRegressor(max_depth=5, random_state=42)\n",
    "tree_model.fit(X_train, y_train)\n",
    "y_train_pred_tree = tree_model.predict(X_train)\n",
    "y_test_pred_tree = tree_model.predict(X_test)"
   ]
  },
  {
   "cell_type": "code",
   "execution_count": null,
   "metadata": {},
   "outputs": [],
   "source": [
    "print (\"R2 of Linear Regresson train:\", tree_model.score(X_train,y_train) )\n",
    "print('MAE train: ',mean_absolute_error(y_train, tree_model.predict(X_train)))\n",
    "print('MSE train: ',mean_squared_error(y_train, tree_model.predict(X_train)))\n",
    "print('RMSE train:',np.sqrt(mean_squared_error(y_train, tree_model.predict(X_train))))"
   ]
  },
  {
   "cell_type": "code",
   "execution_count": null,
   "metadata": {},
   "outputs": [],
   "source": [
    "print (\"R2 of Linear Regresson test:\", tree_model.score(X_test,y_test) )\n",
    "print('MAE test: ',mean_absolute_error(y_test, tree_model.predict(X_test)))\n",
    "print('MSE test: ',mean_squared_error(y_test, tree_model.predict(X_test)))\n",
    "print('RMSE test:',np.sqrt(mean_squared_error(y_test, tree_model.predict(X_test))))"
   ]
  },
  {
   "cell_type": "markdown",
   "metadata": {},
   "source": [
    "<font color=green>\n",
    "Con un modelo árbol de desición, se tiene un score de entrenamiento 66.7% y score de prueba 65.7%\n",
    "</font>"
   ]
  },
  {
   "cell_type": "markdown",
   "metadata": {},
   "source": [
    "#### KNeighborsRegressor"
   ]
  },
  {
   "cell_type": "code",
   "execution_count": null,
   "metadata": {},
   "outputs": [],
   "source": [
    "from sklearn.neighbors import KNeighborsRegressor\n",
    "knn_model = KNeighborsRegressor(n_neighbors=5, weights = 'distance')\n",
    "knn_model.fit(X_train, y_train)\n",
    "y_train_pred_knn = knn_model.predict(X_train)\n",
    "y_test_pred_knn = knn_model.predict(X_test)"
   ]
  },
  {
   "cell_type": "code",
   "execution_count": null,
   "metadata": {},
   "outputs": [],
   "source": [
    "print (\"R2 of Linear Regresson train:\", knn_model.score(X_train,y_train) )\n",
    "print('MAE train: ',mean_absolute_error(y_train, knn_model.predict(X_train)))\n",
    "print('MSE train: ',mean_squared_error(y_train, knn_model.predict(X_train)))\n",
    "print('RMSE train:',np.sqrt(mean_squared_error(y_train, knn_model.predict(X_train))))"
   ]
  },
  {
   "cell_type": "code",
   "execution_count": null,
   "metadata": {},
   "outputs": [],
   "source": [
    "print (\"R2 of Linear Regresson test:\", knn_model.score(X_test,y_test) )\n",
    "print('MAE test: ',mean_absolute_error(y_test, knn_model.predict(X_test)))\n",
    "print('MSE test: ',mean_squared_error(y_test, knn_model.predict(X_test)))\n",
    "print('RMSE test:',np.sqrt(mean_squared_error(y_test, knn_model.predict(X_test))))"
   ]
  },
  {
   "cell_type": "markdown",
   "metadata": {},
   "source": [
    "<font color=green>\n",
    "Con un modelo KNN, se tiene un score de entrenamiento 97.4% y score de prueba 82.2%\n",
    "</font>"
   ]
  },
  {
   "cell_type": "code",
   "execution_count": null,
   "metadata": {},
   "outputs": [],
   "source": [
    "hhh"
   ]
  },
  {
   "cell_type": "code",
   "execution_count": null,
   "metadata": {},
   "outputs": [],
   "source": [
    "import tensorflow as tf"
   ]
  },
  {
   "cell_type": "code",
   "execution_count": null,
   "metadata": {},
   "outputs": [],
   "source": [
    "from tensorflow import keras\n",
    "from tensorflow.keras import layers\n",
    "\n",
    "print(tf.__version__)"
   ]
  },
  {
   "cell_type": "code",
   "execution_count": null,
   "metadata": {},
   "outputs": [],
   "source": []
  },
  {
   "cell_type": "code",
   "execution_count": null,
   "metadata": {},
   "outputs": [],
   "source": [
    "model.compile(   \n",
    "    loss='mse', # keras.losses.mean_squared_error   \n",
    "    optimizer=keras.optimizers.SGD(lr=0.02), ) "
   ]
  },
  {
   "cell_type": "code",
   "execution_count": null,
   "metadata": {},
   "outputs": [],
   "source": [
    "RFR.fit(X_train,y_train.values.ravel())"
   ]
  },
  {
   "cell_type": "code",
   "execution_count": null,
   "metadata": {},
   "outputs": [],
   "source": [
    "model.fit(X_train,y_train.reshape(-1,1))"
   ]
  },
  {
   "cell_type": "code",
   "execution_count": null,
   "metadata": {},
   "outputs": [],
   "source": [
    "model.fit(X_train.reshape(-1,1),y_train.values.ravel())"
   ]
  },
  {
   "cell_type": "code",
   "execution_count": null,
   "metadata": {},
   "outputs": [],
   "source": [
    "scores = cross_validate(model,X_train,y_train.values.ravel(), scoring =('r2','neg_mean_squared_error'),cv=4, return_train_score=True ) "
   ]
  },
  {
   "cell_type": "code",
   "execution_count": null,
   "metadata": {},
   "outputs": [],
   "source": [
    "train_r2= np.mean(scores['train_r2'])\n",
    "test_r2= np.mean(scores['test_r2'])\n",
    "print('r2 train:',train_r2)\n",
    "print('r2 test:',test_r2)\n",
    "print()\n",
    "\n",
    "train_mse= abs(np.mean(scores['train_neg_mean_squared_error']))\n",
    "test_mse= abs(np.mean(scores['test_neg_mean_squared_error']))\n",
    "print('MSE train:',train_mse)\n",
    "print('MSE test:',test_mse)\n",
    "print()"
   ]
  },
  {
   "cell_type": "code",
   "execution_count": null,
   "metadata": {},
   "outputs": [],
   "source": []
  },
  {
   "cell_type": "code",
   "execution_count": null,
   "metadata": {},
   "outputs": [],
   "source": []
  },
  {
   "cell_type": "markdown",
   "metadata": {},
   "source": [
    "### Escalado de datos"
   ]
  },
  {
   "cell_type": "markdown",
   "metadata": {},
   "source": [
    "<font color=green>\n",
    "La escala es importante si necesito especificar que una modificación en una cantidad no es igual a otra modificación en otra. En pocas palabras, ponemos todas nuestras características en la misma escala para que ninguna esté dominada por otra. Por ejemplo, puedo utilizar la clase StandardScaler del paquete sklearn.preprocessing para ajustar y transformar el conjunto de datos.\n",
    "</font>"
   ]
  },
  {
   "cell_type": "code",
   "execution_count": null,
   "metadata": {},
   "outputs": [],
   "source": [
    "# CON STANDARDSCALER DE SCIKIT LEARN\n",
    "\n",
    "from sklearn.preprocessing import StandardScaler\n",
    "scaler = StandardScaler()"
   ]
  },
  {
   "cell_type": "code",
   "execution_count": null,
   "metadata": {},
   "outputs": [],
   "source": [
    "X_train_scaler= pd.DataFrame(scaler.fit_transform(X_train))"
   ]
  },
  {
   "cell_type": "code",
   "execution_count": null,
   "metadata": {},
   "outputs": [],
   "source": [
    "X_test_scaler = pd.DataFrame(scaler.transform(X_test))"
   ]
  },
  {
   "cell_type": "markdown",
   "metadata": {},
   "source": [
    "<font color=green>\n",
    "PCA (análisis de componentes principales) es un método para extraer variables importantes (en forma de componentes) de un gran conjunto de variables disponibles en un conjunto de datos. La idea es calcular y clasificar la importancia de las características / dimensiones.\n",
    "\n",
    "Para hacer eso, usamos SVD (descomposición de valores singulares). La SVD se utiliza en la matriz de covarianza para calcular y clasificar la importancia de las características.\n",
    "</font>"
   ]
  },
  {
   "cell_type": "code",
   "execution_count": null,
   "metadata": {},
   "outputs": [],
   "source": [
    "#reduccion"
   ]
  },
  {
   "cell_type": "markdown",
   "metadata": {},
   "source": [
    "### Truncated SVD"
   ]
  },
  {
   "cell_type": "code",
   "execution_count": null,
   "metadata": {},
   "outputs": [],
   "source": [
    "from sklearn.decomposition import TruncatedSVD"
   ]
  },
  {
   "cell_type": "code",
   "execution_count": null,
   "metadata": {
    "scrolled": true
   },
   "outputs": [],
   "source": [
    "for i in range(1,66,5):\n",
    "    svd = TruncatedSVD(n_components=i,n_iter=7,random_state=42)\n",
    "    svd.fit(X)\n",
    "    print(str(i)+' '+str(svd.explained_variance_ratio_.sum()))"
   ]
  },
  {
   "cell_type": "markdown",
   "metadata": {},
   "source": [
    "<font color=green>\n",
    "En base a los resultados, tomando 6 componentes tengo el 99% de las variaciones. \n",
    "</font>"
   ]
  },
  {
   "cell_type": "code",
   "execution_count": null,
   "metadata": {},
   "outputs": [],
   "source": [
    "svd = TruncatedSVD(n_components=6,n_iter=7,random_state=42)"
   ]
  },
  {
   "cell_type": "markdown",
   "metadata": {},
   "source": [
    "<font color=green>\n",
    "Se ajusta el X_train y X_test conforme a lo calculado. \n",
    "</font>"
   ]
  },
  {
   "cell_type": "code",
   "execution_count": null,
   "metadata": {},
   "outputs": [],
   "source": [
    "trun_X_train = svd.fit_transform(X_train)\n",
    "X_train = trun_X_train\n",
    "trun_X_test = svd.transform(X_test)\n",
    "X_test = trun_X_test"
   ]
  },
  {
   "cell_type": "markdown",
   "metadata": {},
   "source": [
    "<font color=green>\n",
    "La validación cruzada repetida de k veces proporciona una forma de mejorar el rendimiento estimado de un modelo de aprendizaje automático.\n",
    "</font>"
   ]
  },
  {
   "cell_type": "code",
   "execution_count": null,
   "metadata": {},
   "outputs": [],
   "source": [
    "from sklearn.model_selection import cross_validate"
   ]
  },
  {
   "cell_type": "markdown",
   "metadata": {},
   "source": [
    "<font color=green>\n",
    "La profundidad máxima del árbol se probó con 10 para dejar los mismos parámetros del proyecto 1. Si se aumenta la profundidad, mejora el score en train y test. Sin embargo, tener un 'modelo perfecto' genera desconfianza.\n",
    "</font>"
   ]
  },
  {
   "cell_type": "code",
   "execution_count": null,
   "metadata": {},
   "outputs": [],
   "source": [
    "tree_model = DecisionTreeRegressor(max_depth=10, random_state=42)"
   ]
  },
  {
   "cell_type": "code",
   "execution_count": null,
   "metadata": {},
   "outputs": [],
   "source": [
    "scores = cross_validate(tree_model,X_train,y_train.values.ravel(), scoring =('r2','neg_mean_squared_error'),cv=4, return_train_score=True ) "
   ]
  },
  {
   "cell_type": "code",
   "execution_count": null,
   "metadata": {},
   "outputs": [],
   "source": [
    "train_maxe = np.mean(scores['train_r2'])\n",
    "test_maxe = np.mean(scores['test_r2'])\n",
    "print('R2 train:',train_maxe)\n",
    "print('R2 test:',test_maxe)"
   ]
  },
  {
   "cell_type": "code",
   "execution_count": null,
   "metadata": {},
   "outputs": [],
   "source": [
    "train_mse = abs(np.mean(scores['train_neg_mean_squared_error']))\n",
    "test_mse = abs(np.mean(scores['test_neg_mean_squared_error']))\n",
    "print('MSE train:',train_mse)\n",
    "print('MSE test:',test_mse)"
   ]
  },
  {
   "cell_type": "markdown",
   "metadata": {},
   "source": [
    "<font color=green>\n",
    "Resultados: score de entrenamiento 79.3% y score de prueba 74.6%\n",
    "</font>"
   ]
  },
  {
   "cell_type": "markdown",
   "metadata": {},
   "source": [
    "### PCA"
   ]
  },
  {
   "cell_type": "code",
   "execution_count": null,
   "metadata": {},
   "outputs": [],
   "source": [
    "from sklearn.decomposition import PCA"
   ]
  },
  {
   "cell_type": "code",
   "execution_count": null,
   "metadata": {},
   "outputs": [],
   "source": [
    "for i in range(1,66,5):\n",
    "    pca = PCA(n_components=i)\n",
    "    pca.fit(X)\n",
    "    print(str(i)+' '+str(pca.explained_variance_ratio_.sum()))"
   ]
  },
  {
   "cell_type": "markdown",
   "metadata": {},
   "source": [
    "<font color=green>\n",
    "En base a los resultados, tomando 6 componentes tengo el 99% de las variaciones.\n",
    "</font>"
   ]
  },
  {
   "cell_type": "markdown",
   "metadata": {},
   "source": [
    "## PARTE B - Modelos Avanzados"
   ]
  },
  {
   "cell_type": "markdown",
   "metadata": {},
   "source": [
    "#### 6. Elige dos de los modelos avanzados vistos (en el caso de regresión, considera una regresión lineal con atributos polinómicos y regularización). Entrénalos y evalúalos con sus argumentos por defecto. No te olvides de hacer un train/test split y usar Validación Cruzada.\n",
    "\n",
    "#### 7. Optimiza sus hiperparámetros mediante Validación Cruzada y Grid Search o Random Search.\n",
    "\n",
    "#### 8. Compara el desempeño de los nuevos modelos entre sí y con el modelo de la Parte A. ¿Cuál elegirías? Justifica."
   ]
  },
  {
   "cell_type": "markdown",
   "metadata": {},
   "source": [
    "### Random Forest Regressor"
   ]
  },
  {
   "cell_type": "markdown",
   "metadata": {},
   "source": [
    "##### - Random Forest se considera como la “panacea” en todos los problemas de ciencia de datos.\n",
    "##### - Util para regresión y clasificación.\n",
    "##### - Un grupo de modelos “débiles”, se combinan en un modelo robusto.\n",
    "##### - Sirve como una técnica para reducción de la dimensionalidad.\n",
    "##### - Se generan múltiples árboles (a diferencia de CART).\n",
    "##### - Cada árbol da una classificación (vota por una clase). Y el resultado es la clase con mayor número de votos en todo el bosque (forest).\n",
    "##### - Para regresión, se toma el promedio de las salidas (predicciones) de todos los árboles.\n"
   ]
  },
  {
   "cell_type": "code",
   "execution_count": null,
   "metadata": {},
   "outputs": [],
   "source": [
    "from sklearn.ensemble import RandomForestRegressor\n",
    "from sklearn.model_selection import cross_validate"
   ]
  },
  {
   "cell_type": "markdown",
   "metadata": {},
   "source": [
    "#### Para obtener los mejores resultados en cuanto a la medición de la calidad de la predicción de los modelos, es mejor realizar una Validación Cruzada sobre los datos de entrada.\n",
    "\n",
    "#### La Validación Cruzada o k-fold Cross Validation consiste en tomar los datos originales y crear a partir de ellos dos conjuntos separados: un primer conjunto de entrenamiento (y prueba), y un segundo conjunto de validación.\n",
    "\n",
    "#### Luego, el conjunto de entrenamiento se va a dividir en k subconjuntos y, al momento de realizar el entrenamiento, se va a tomar cada k subconjunto como conjunto de prueba del modelo, mientras que el resto de los datos se tomará como conjunto de entrenamiento.\n",
    "\n",
    "#### Este proceso se repetirá k veces, y en cada iteración se seleccionará un conjunto de prueba diferente, mientras los datos restantes se emplearán, como se mencionó, como conjunto de entrenamiento. Una vez finalizadas las iteraciones, se calcula la precisión y el error para cada uno de los modelos producidos, y para obtener la precisión y el error final se calcula el promedio de los k modelos entrenados.\n",
    "\n",
    "#### Una vez se cuenta con esta precisión promedio para un modelo, se puede repetir entonces el procedimiento del Cross Validation para todos los demás modelos de clasificación que se estén evaluando, y se seleccionará al final aquel que produzca el mejor valor de precisión y menor error promedio.\n",
    "\n",
    "#### Entonces, puede utilizarse dicho modelo sobre el conjunto de validación generado en la primera parte, ya que, se supone, es este modelo el que mejor resultado en general ofreció durante la fase de entrenamiento."
   ]
  },
  {
   "cell_type": "code",
   "execution_count": null,
   "metadata": {},
   "outputs": [],
   "source": [
    "RFR = RandomForestRegressor(warm_start=True)\n",
    "RFR.fit(X_train,y_train.values.ravel())"
   ]
  },
  {
   "cell_type": "markdown",
   "metadata": {},
   "source": [
    "<font color=green>\n",
    "La validación cruzada repetida de k veces proporciona una forma de mejorar el rendimiento estimado de un modelo de aprendizaje automático.\n",
    "</font>"
   ]
  },
  {
   "cell_type": "code",
   "execution_count": null,
   "metadata": {},
   "outputs": [],
   "source": [
    "tree_scores_RFR = cross_validate(RFR,X_train,y_train.values.ravel(), scoring =('r2','neg_mean_squared_error'),cv=4, return_train_score=True ) "
   ]
  },
  {
   "cell_type": "code",
   "execution_count": null,
   "metadata": {},
   "outputs": [],
   "source": [
    "train_r2= np.mean(tree_scores_RFR['train_r2'])\n",
    "test_r2= np.mean(tree_scores_RFR['test_r2'])\n",
    "print('r2 train:',train_r2)\n",
    "print('r2 test:',test_r2)\n",
    "print()\n",
    "\n",
    "train_mse= abs(np.mean(tree_scores_RFR['train_neg_mean_squared_error']))\n",
    "test_mse= abs(np.mean(tree_scores_RFR['test_neg_mean_squared_error']))\n",
    "print('MSE train:',train_mse)\n",
    "print('MSE test:',test_mse)\n",
    "print()"
   ]
  },
  {
   "cell_type": "markdown",
   "metadata": {},
   "source": [
    "<font color=green>\n",
    "Resultados: score de entrenamiento 96.1% y score de prueba 84.1%\n",
    "</font>"
   ]
  },
  {
   "cell_type": "markdown",
   "metadata": {},
   "source": [
    "### XGBOOST"
   ]
  },
  {
   "cell_type": "markdown",
   "metadata": {},
   "source": [
    "#### XGBoost Extreme Gradient Boosting es un algoritmo predictivo supervisado que utiliza el principio de boosting.\n",
    "#### La idea detrás del boosting es generar múltiples modelos de predicción “débiles” secuenciualmente,y que cada uno de estos tome los resultados del modelo anterior, para generar un modelo más “fuerte”, con mejor poder predictivo y mayor estabilidad en sus resultados.\n",
    "#### Para conseguir un modelo más fuerte, se emplea un algoritmo de optimización, este caso Gradient Descent (descenso de gradiente).\n",
    "#### Durante el entrenamiento, los parámetros de cada modelo débil son ajustados iterativamente tratando de encontrar el mínimo de una función objetivo, que puede ser la proporción de error en la clasificación, el área bajo la curva (AUC), la raíz del error cuadrático medio (RMSE) o alguna otra.\n",
    "#### Cada modelo es comparado con el anterior. Si un nuevo modelo tiene mejores resultados, entonces se toma este como base para realizar nuevas modificaciones. Si, por el contrario, tiene peores resultados, se regresa al mejor modelo anterior y se modifica ese de una manera diferente.\n",
    "#### Este proceso se repite hasta llegar a un punto en el que la diferencia entre modelos consecutivos es insignificante, lo cual nos indica que hemos encontrado el mejor modelo posible, o cuando se llega al número de iteraciones máximas definido por el usuario.\n",
    "#### XGBoost usa como sus modelos débiles árboles de decisión de diferentes tipos, que pueden ser usados para tareas de clasificación y de regresión."
   ]
  },
  {
   "cell_type": "code",
   "execution_count": null,
   "metadata": {},
   "outputs": [],
   "source": [
    "import xgboost as xgb"
   ]
  },
  {
   "cell_type": "code",
   "execution_count": null,
   "metadata": {},
   "outputs": [],
   "source": [
    "xgbO = xgb.XGBRegressor()\n",
    "xgbO.fit(X_train,y_train.values.ravel())"
   ]
  },
  {
   "cell_type": "markdown",
   "metadata": {},
   "source": [
    "<font color=green>\n",
    "La validación cruzada repetida de k veces proporciona una forma de mejorar el rendimiento estimado de un modelo de aprendizaje automático.\n",
    "</font>"
   ]
  },
  {
   "cell_type": "code",
   "execution_count": null,
   "metadata": {},
   "outputs": [],
   "source": [
    "tree_scores_xgbO = cross_validate(xgbO,X_train,y_train.values.ravel(), scoring =('r2','neg_mean_squared_error'),cv=4, return_train_score=True ) "
   ]
  },
  {
   "cell_type": "code",
   "execution_count": null,
   "metadata": {},
   "outputs": [],
   "source": [
    "train_r2= np.mean(tree_scores_xgbO['train_r2'])\n",
    "test_r2= np.mean(tree_scores_xgbO['test_r2'])\n",
    "print('r2 train:',train_r2)\n",
    "print('r2 test:',test_r2)\n",
    "print()\n",
    "\n",
    "train_mse= abs(np.mean(tree_scores_xgbO['train_neg_mean_squared_error']))\n",
    "test_mse= abs(np.mean(tree_scores_xgbO['test_neg_mean_squared_error']))\n",
    "print('MSE train:',train_mse)\n",
    "print('MSE test:',test_mse)\n",
    "print()"
   ]
  },
  {
   "cell_type": "markdown",
   "metadata": {},
   "source": [
    "<font color=green>\n",
    "Resultados: score de entrenamiento 85.4% y score de prueba 79.4%\n",
    "</font>"
   ]
  },
  {
   "cell_type": "markdown",
   "metadata": {},
   "source": [
    "\n",
    "### Optimización de modelos.\n"
   ]
  },
  {
   "cell_type": "markdown",
   "metadata": {},
   "source": [
    "#### Los hiper parámetros pueden tener un impacto directo en el entrenamiento de los algoritmos de aprendizaje automático. Por lo tanto, para lograr el máximo rendimiento, es importante entender cómo optimizarlos\n",
    "\n",
    "#### RandomizedSearchCV y GridSearchCV exploran exactamente el mismo espacio de parámetros. El resultado en la configuración de los parámetros es bastante similar, mientras que el tiempo de ejecución para la búsqueda aleatoria es drásticamente menor.\n"
   ]
  },
  {
   "cell_type": "code",
   "execution_count": null,
   "metadata": {},
   "outputs": [],
   "source": [
    "from sklearn.model_selection import GridSearchCV, RandomizedSearchCV"
   ]
  },
  {
   "cell_type": "code",
   "execution_count": null,
   "metadata": {},
   "outputs": [],
   "source": [
    "from sklearn.ensemble import RandomForestRegressor"
   ]
  },
  {
   "cell_type": "markdown",
   "metadata": {},
   "source": [
    "<font color=green>\n",
    "Aunque es posible que RandomizedSearchCV no encuentre un resultado tan preciso como GridSearchCV, sorprendentemente escoge el mejor resultado más a menudo y en una fracción del tiempo que GridSearchCV habría tardado, por eso se eligió esta cuadrícula.\n",
    "</font>"
   ]
  },
  {
   "cell_type": "markdown",
   "metadata": {},
   "source": [
    "### Random Forest Regressor"
   ]
  },
  {
   "cell_type": "code",
   "execution_count": null,
   "metadata": {},
   "outputs": [],
   "source": [
    "modeloRFR = RandomForestRegressor(warm_start=True,n_estimators = 500, criterion = 'mse', max_features = 'auto')\n",
    "modeloRFR.fit(X_train,y_train.values.ravel())"
   ]
  },
  {
   "cell_type": "code",
   "execution_count": null,
   "metadata": {},
   "outputs": [],
   "source": [
    "tree_scores_RFR_O = cross_validate(modeloRFR,X_train,y_train.values.ravel(), scoring =('r2','neg_mean_squared_error'),cv=4, return_train_score=True ) "
   ]
  },
  {
   "cell_type": "code",
   "execution_count": null,
   "metadata": {},
   "outputs": [],
   "source": [
    "train_r2= np.mean(tree_scores_RFR_O['train_r2'])\n",
    "test_r2= np.mean(tree_scores_RFR_O['test_r2'])\n",
    "print('r2 train:',train_r2)\n",
    "print('r2 test:',test_r2)\n",
    "print()\n",
    "\n",
    "train_mse= abs(np.mean(tree_scores_RFR_O['train_neg_mean_squared_error']))\n",
    "test_mse= abs(np.mean(tree_scores_RFR_O['test_neg_mean_squared_error']))\n",
    "print('MSE train:',train_mse)\n",
    "print('MSE test:',test_mse)\n",
    "print()"
   ]
  },
  {
   "cell_type": "markdown",
   "metadata": {},
   "source": [
    "<font color=green>\n",
    "Resultados: score de entrenamiento 96.2% y score de prueba 84.3%\n",
    "</font>"
   ]
  },
  {
   "cell_type": "markdown",
   "metadata": {},
   "source": [
    "### XGBOOST"
   ]
  },
  {
   "cell_type": "code",
   "execution_count": null,
   "metadata": {},
   "outputs": [],
   "source": [
    "import scipy as sp"
   ]
  },
  {
   "cell_type": "code",
   "execution_count": null,
   "metadata": {},
   "outputs": [],
   "source": [
    "# Grilla para Random Search\n",
    "param = {\n",
    "    'n_estimators':[500],\n",
    "    'weights': ['uniform', 'distance'], \n",
    "    'max_depth':[10]}"
   ]
  },
  {
   "cell_type": "code",
   "execution_count": null,
   "metadata": {},
   "outputs": [],
   "source": [
    "# param_dist = {'n_neighbors':sp.stats.randint(1, 20),\n",
    "#              'weights': ['uniform', 'distance'], \n",
    "#              'leaf_size':sp.stats.randint(1, 10),\n",
    "#              'algorithm':['auto', 'kd_tree']}"
   ]
  },
  {
   "cell_type": "code",
   "execution_count": null,
   "metadata": {},
   "outputs": [],
   "source": [
    "model = RandomizedSearchCV(xgbO, param, random_state=0, cv=5,n_jobs=-1)\n",
    "\n",
    "# Entrenamos: KNN con la grilla definida arriba y CV con tamaño de Fold=5\n",
    "model.fit(X_train,y_train.values.ravel())"
   ]
  },
  {
   "cell_type": "code",
   "execution_count": null,
   "metadata": {},
   "outputs": [],
   "source": [
    "print(\"Mejores parametros: \"+str(model.best_params_))\n",
    "print(\"Mejor Score: \"+str(model.best_score_)+'\\n')\n",
    "\n",
    "scores = pd.DataFrame(model.cv_results_)\n",
    "scores"
   ]
  },
  {
   "cell_type": "code",
   "execution_count": null,
   "metadata": {},
   "outputs": [],
   "source": [
    "y_train_pred = model.predict(X_train)\n",
    "y_test_pred = model.predict(X_test)\n",
    "\n",
    "train_r2= r2_score(y_train,y_train_pred)\n",
    "test_r2= r2_score(y_test,y_test_pred)\n",
    "print('r2 train:',train_r2)\n",
    "print('r2 test:',test_r2)\n",
    "print()\n",
    "\n",
    "#train_mse= mean_squared_error(y_train,y_train_pred)\n",
    "#test_mse= mean_squared_error(y_test,y_test_pred)\n",
    "rmse_train = np.sqrt(mean_squared_error(y_train, y_train_pred))\n",
    "rmse_test = np.sqrt(mean_squared_error(y_test, y_test_pred))\n",
    "print('MSE train:',rmse_train)\n",
    "print('MSE test:',rmse_test)\n",
    "print()"
   ]
  },
  {
   "cell_type": "markdown",
   "metadata": {},
   "source": [
    "<font color=green>\n",
    "Resultados: score de entrenamiento 97.3% y score de prueba 85%\n",
    "</font>"
   ]
  },
  {
   "cell_type": "markdown",
   "metadata": {},
   "source": [
    "<font color=blue>\n",
    "Comparando los resultados del modelo DecisionTreeRegresor de la parte A (escalado de datos - SVD) con los modelos avanzados de la parte B, el modelo XGBOOST con optimización de hiperparámetros es mucho mejor ya que arrojó mejor score Train -Test y error mucho menor respecto a todos los modelos evaluados. Se adjunta pantallazos de los scores calculados en esta parte.\n",
    "</font>"
   ]
  },
  {
   "attachments": {
    "image.png": {
     "image/png": "[encoded data removed]"
    }
   },
   "cell_type": "markdown",
   "metadata": {},
   "source": [
    "![image.png](attachment:image.png)"
   ]
  },
  {
   "cell_type": "markdown",
   "metadata": {},
   "source": [
    "## PARTE C - Interpretación de modelos"
   ]
  },
  {
   "cell_type": "markdown",
   "metadata": {},
   "source": [
    "#### De acuerdo a lo que el modelo permite, responde algunas o todas las siguientes preguntas:\n",
    "\n",
    "#### -¿Qué variables fueron relevantes para el modelo para hacer una predicción? ¿Cuáles no? Si usaste una regresión lineal con regularización, presta atención a los parámetros (pendientes) obtenidas. Si usaste un modelo de ensamble en árboles, además de ver la importancia de cada atributo, también elige algunos árboles al azar y observa qué atributos considera importantes. ¿En qué se diferencian esos árboles? ¿Por qué? Finalmente, responde, ¿coincide con lo que esperabas a partir de tu experiencia con este dataset?"
   ]
  },
  {
   "cell_type": "code",
   "execution_count": null,
   "metadata": {},
   "outputs": [],
   "source": [
    "importances=model.best_estimator_.feature_importances_"
   ]
  },
  {
   "cell_type": "code",
   "execution_count": null,
   "metadata": {},
   "outputs": [],
   "source": [
    "import matplotlib.pyplot as plt\n",
    "\n",
    "tree_columns = np.arange(0,len(model.best_estimator_.feature_importances_))\n",
    "plt.figure(figsize=(20,4))\n",
    "sns.barplot(tree_columns,importances)\n",
    "plt.title('Importancia de los features')\n",
    "plt.xticks(range(len(X.columns)),X.columns.values,rotation=90)\n",
    "plt.show()"
   ]
  },
  {
   "cell_type": "markdown",
   "metadata": {},
   "source": [
    "<font color=red>\n",
    "Partiendo del hecho que el modelo XGBOOST con optimización de hiperparámetros fue el modelo que arrojó mejor score y menor error, se calcularon las características más importantes (features) donde las tres principales fueron rooms, surface_total y casa. En base al primer proyecto, existe cierta similitud en el mapa de calor ya que rooms y surface_total estaban dentro las mayores magnitudes de relación existente con la variable Precio (variable que iba a predecir). Para el modelo XGBOOST la variable casa es una de las nuevas features que se incluyeron para entrenar el modelo.\n",
    "</font>"
   ]
  },
  {
   "attachments": {
    "image.png": {
     "image/png": "[encoded data removed]"
    }
   },
   "cell_type": "markdown",
   "metadata": {},
   "source": [
    "![image.png](attachment:image.png)"
   ]
  },
  {
   "cell_type": "markdown",
   "metadata": {},
   "source": [
    "<font color=green>\n",
    "El hecho de incluir más variables a cualquiera de los modelos avanzados (en este caso tipo de propiedad y l3 que es el barrio) ayudaron a los cálculos para predecir mejor el precio de una propiedad.\n",
    "Considero que escalar los datos es un plus y la validación cruzada es necesaria en entornos donde el objetivo principal es la predicción y se quiere estimar la precisión de un modelo que se llevará a cabo a la práctica. Independiente del modelo, hay ventajas y desventajas. En mi caso, probar con GridSearchCV no fue posible porque se colgó mi pc, así que por rendimiento computacional, se trabajó RandomizedSearchCV.\n",
    "</font>"
   ]
  },
  {
   "cell_type": "markdown",
   "metadata": {},
   "source": [
    "#### -¿Cómo es la distribución de errores (regresión) o qué clases se confunden entre sí (clasificación)? ¿Dónde falla? ¿A qué se debe?"
   ]
  },
  {
   "cell_type": "markdown",
   "metadata": {},
   "source": [
    "<font color=red>\n",
    "Distribución de error en modelo XGBOOST.\n",
    "</font>"
   ]
  },
  {
   "cell_type": "code",
   "execution_count": null,
   "metadata": {},
   "outputs": [],
   "source": [
    "plt.figure(figsize = (10,4))\n",
    "\n",
    "plt.subplot(1,2,1)\n",
    "sns.distplot((y_train) - (y_train_pred).reshape(-1,1), bins = 20, label = 'train')\n",
    "sns.distplot((y_test) - (y_test_pred).reshape(-1,1), bins = 20, label = 'test')\n",
    "plt.xlabel('errores')\n",
    "plt.legend()\n",
    "\n",
    "\n",
    "ax = plt.subplot(1,2,2)\n",
    "ax.scatter(y_test,y_test_pred, s =2)\n",
    "    \n",
    "lims = [\n",
    "np.min([ax.get_xlim(), ax.get_ylim()]),  # min of both axes\n",
    "np.max([ax.get_xlim(), ax.get_ylim()]),  # max of both axes]\n",
    "]\n",
    "    \n",
    "ax.plot(lims, lims, 'k-', alpha=0.75, zorder=0)\n",
    "plt.xlabel('y (test)')\n",
    "plt.ylabel('y_pred (test)')\n",
    "    \n",
    "plt.tight_layout()\n",
    "plt.show()"
   ]
  },
  {
   "cell_type": "markdown",
   "metadata": {},
   "source": [
    "<font color=red>\n",
    "Conclusiones en gráfico de errores y gráfico (cómo da la predicción en función del real):\n",
    "</font>"
   ]
  },
  {
   "cell_type": "markdown",
   "metadata": {},
   "source": [
    "<font color=red>\n",
    "Distribución de error en modelo XGBOOST.\n",
    "</font>\n",
    "Los errores RMSE representan el error global del regresor. Son similares tanto para test como para train, indicando que no hay un gran sobreajuste.\n"
   ]
  },
  {
   "cell_type": "markdown",
   "metadata": {},
   "source": [
    "Los histogramas de los errores son simétricos, aproximadamente gaussianos, y parecidos para ambos conjuntos. Esto es un indicador de que estamos aproximando a nuestros datos de manera correcta.\n"
   ]
  },
  {
   "cell_type": "markdown",
   "metadata": {},
   "source": [
    "En el gráfico  𝑦  vs  𝑦𝑝𝑟𝑒𝑑𝑖𝑐ℎ𝑜  para el conjunto de test, todos los puntos están cerca de la diagonal (la relación  𝑦=𝑥 ), ¡que es lo que esperamos para un buen regresor! Además, el error parece ser similar en todo el rango de posibles valores"
   ]
  },
  {
   "cell_type": "markdown",
   "metadata": {},
   "source": [
    "## DESAFÍO OPCIONAL\n",
    "\n",
    "#### Aplica una técnica de Clustering sobre el dataset. Puedes combinar con técnicas de reducción de dimensionalidad para facilitar la visualización. ¿Qué clusters encuentras? ¿A qué pueden corresponder? Te dejamos preguntas que pueden servir como disparadoras: ¿qué barrios se parecen más entre sí?¿qué tipos de propiedades se parecen más entre sí?"
   ]
  },
  {
   "cell_type": "code",
   "execution_count": null,
   "metadata": {},
   "outputs": [],
   "source": []
  }
 ],
 "metadata": {
  "colab": {
   "collapsed_sections": [],
   "name": "DS_Proyecto_01.ipynb",
   "provenance": []
  },
  "kernelspec": {
   "display_name": "Python 3",
   "language": "python",
   "name": "python3"
  },
  "language_info": {
   "codemirror_mode": {
    "name": "ipython",
    "version": 3
   },
   "file_extension": ".py",
   "mimetype": "text/x-python",
   "name": "python",
   "nbconvert_exporter": "python",
   "pygments_lexer": "ipython3",
   "version": "3.7.6"
  }
 },
 "nbformat": 4,
 "nbformat_minor": 1
}
